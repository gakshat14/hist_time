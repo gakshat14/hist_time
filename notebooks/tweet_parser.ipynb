{
 "cells": [
  {
   "cell_type": "code",
   "execution_count": 1,
   "metadata": {
    "collapsed": true,
    "pycharm": {
     "name": "#%%\n"
    }
   },
   "outputs": [],
   "source": [
    "import matplotlib.pyplot as plt\n",
    "import re\n",
    "import pandas as pd\n",
    "import numpy as np\n",
    "from scipy.signal import find_peaks\n",
    "from typing import List\n",
    "import string\n",
    "from textblob import TextBlob"
   ]
  },
  {
   "cell_type": "code",
   "execution_count": 21,
   "outputs": [
    {
     "data": {
      "text/plain": "      author                                            content country  \\\n0  katyperry  Is history repeating itself...?#DONTNORMALIZEH...     NaN   \n1  katyperry  @barackobama Thank you for your incredible gra...     NaN   \n2  katyperry                Life goals. https://t.co/XIn1qKMKQl     NaN   \n3  katyperry            Me right now 🙏🏻 https://t.co/gW55C1wrwd     NaN   \n4  katyperry  SISTERS ARE DOIN' IT FOR THEMSELVES! 🙌🏻💪🏻❤️ ht...     NaN   \n\n          date_time            id language  latitude  longitude  \\\n0  12/01/2017 19:52  8.196330e+17       en       NaN        NaN   \n1  11/01/2017 08:38  8.191010e+17       en       NaN        NaN   \n2  11/01/2017 02:52  8.190140e+17       en       NaN        NaN   \n3  11/01/2017 02:44  8.190120e+17       en       NaN        NaN   \n4  10/01/2017 05:22  8.186890e+17       en       NaN        NaN   \n\n   number_of_likes  number_of_shares  \n0             7900              3472  \n1             3689              1380  \n2            10341              2387  \n3            10774              2458  \n4            17620              4655  ",
      "text/html": "<div>\n<style scoped>\n    .dataframe tbody tr th:only-of-type {\n        vertical-align: middle;\n    }\n\n    .dataframe tbody tr th {\n        vertical-align: top;\n    }\n\n    .dataframe thead th {\n        text-align: right;\n    }\n</style>\n<table border=\"1\" class=\"dataframe\">\n  <thead>\n    <tr style=\"text-align: right;\">\n      <th></th>\n      <th>author</th>\n      <th>content</th>\n      <th>country</th>\n      <th>date_time</th>\n      <th>id</th>\n      <th>language</th>\n      <th>latitude</th>\n      <th>longitude</th>\n      <th>number_of_likes</th>\n      <th>number_of_shares</th>\n    </tr>\n  </thead>\n  <tbody>\n    <tr>\n      <th>0</th>\n      <td>katyperry</td>\n      <td>Is history repeating itself...?#DONTNORMALIZEH...</td>\n      <td>NaN</td>\n      <td>12/01/2017 19:52</td>\n      <td>8.196330e+17</td>\n      <td>en</td>\n      <td>NaN</td>\n      <td>NaN</td>\n      <td>7900</td>\n      <td>3472</td>\n    </tr>\n    <tr>\n      <th>1</th>\n      <td>katyperry</td>\n      <td>@barackobama Thank you for your incredible gra...</td>\n      <td>NaN</td>\n      <td>11/01/2017 08:38</td>\n      <td>8.191010e+17</td>\n      <td>en</td>\n      <td>NaN</td>\n      <td>NaN</td>\n      <td>3689</td>\n      <td>1380</td>\n    </tr>\n    <tr>\n      <th>2</th>\n      <td>katyperry</td>\n      <td>Life goals. https://t.co/XIn1qKMKQl</td>\n      <td>NaN</td>\n      <td>11/01/2017 02:52</td>\n      <td>8.190140e+17</td>\n      <td>en</td>\n      <td>NaN</td>\n      <td>NaN</td>\n      <td>10341</td>\n      <td>2387</td>\n    </tr>\n    <tr>\n      <th>3</th>\n      <td>katyperry</td>\n      <td>Me right now 🙏🏻 https://t.co/gW55C1wrwd</td>\n      <td>NaN</td>\n      <td>11/01/2017 02:44</td>\n      <td>8.190120e+17</td>\n      <td>en</td>\n      <td>NaN</td>\n      <td>NaN</td>\n      <td>10774</td>\n      <td>2458</td>\n    </tr>\n    <tr>\n      <th>4</th>\n      <td>katyperry</td>\n      <td>SISTERS ARE DOIN' IT FOR THEMSELVES! 🙌🏻💪🏻❤️ ht...</td>\n      <td>NaN</td>\n      <td>10/01/2017 05:22</td>\n      <td>8.186890e+17</td>\n      <td>en</td>\n      <td>NaN</td>\n      <td>NaN</td>\n      <td>17620</td>\n      <td>4655</td>\n    </tr>\n  </tbody>\n</table>\n</div>"
     },
     "execution_count": 21,
     "metadata": {},
     "output_type": "execute_result"
    }
   ],
   "source": [
    "df = pd.read_csv('../data/tweets.csv')\n",
    "\n",
    "df.head()"
   ],
   "metadata": {
    "collapsed": false,
    "pycharm": {
     "name": "#%%\n"
    }
   }
  },
  {
   "cell_type": "code",
   "execution_count": 22,
   "outputs": [
    {
     "name": "stdout",
     "output_type": "stream",
     "text": [
      "<class 'pandas.core.frame.DataFrame'>\n",
      "RangeIndex: 52542 entries, 0 to 52541\n",
      "Data columns (total 10 columns):\n",
      " #   Column            Non-Null Count  Dtype  \n",
      "---  ------            --------------  -----  \n",
      " 0   author            52542 non-null  object \n",
      " 1   content           52542 non-null  object \n",
      " 2   country           36 non-null     object \n",
      " 3   date_time         52542 non-null  object \n",
      " 4   id                52542 non-null  float64\n",
      " 5   language          52542 non-null  object \n",
      " 6   latitude          1 non-null      float64\n",
      " 7   longitude         1 non-null      float64\n",
      " 8   number_of_likes   52542 non-null  int64  \n",
      " 9   number_of_shares  52542 non-null  int64  \n",
      "dtypes: float64(3), int64(2), object(5)\n",
      "memory usage: 4.0+ MB\n"
     ]
    }
   ],
   "source": [
    "df.info()"
   ],
   "metadata": {
    "collapsed": false,
    "pycharm": {
     "name": "#%%\n"
    }
   }
  },
  {
   "cell_type": "code",
   "execution_count": 23,
   "outputs": [],
   "source": [
    "df.drop(columns=df.columns.difference(['content', 'date_time']), inplace=True)"
   ],
   "metadata": {
    "collapsed": false,
    "pycharm": {
     "name": "#%%\n"
    }
   }
  },
  {
   "cell_type": "code",
   "execution_count": 24,
   "outputs": [
    {
     "data": {
      "text/plain": "                                             content         date_time\n0  Is history repeating itself...?#DONTNORMALIZEH...  12/01/2017 19:52\n1  @barackobama Thank you for your incredible gra...  11/01/2017 08:38\n2                Life goals. https://t.co/XIn1qKMKQl  11/01/2017 02:52\n3            Me right now 🙏🏻 https://t.co/gW55C1wrwd  11/01/2017 02:44\n4  SISTERS ARE DOIN' IT FOR THEMSELVES! 🙌🏻💪🏻❤️ ht...  10/01/2017 05:22",
      "text/html": "<div>\n<style scoped>\n    .dataframe tbody tr th:only-of-type {\n        vertical-align: middle;\n    }\n\n    .dataframe tbody tr th {\n        vertical-align: top;\n    }\n\n    .dataframe thead th {\n        text-align: right;\n    }\n</style>\n<table border=\"1\" class=\"dataframe\">\n  <thead>\n    <tr style=\"text-align: right;\">\n      <th></th>\n      <th>content</th>\n      <th>date_time</th>\n    </tr>\n  </thead>\n  <tbody>\n    <tr>\n      <th>0</th>\n      <td>Is history repeating itself...?#DONTNORMALIZEH...</td>\n      <td>12/01/2017 19:52</td>\n    </tr>\n    <tr>\n      <th>1</th>\n      <td>@barackobama Thank you for your incredible gra...</td>\n      <td>11/01/2017 08:38</td>\n    </tr>\n    <tr>\n      <th>2</th>\n      <td>Life goals. https://t.co/XIn1qKMKQl</td>\n      <td>11/01/2017 02:52</td>\n    </tr>\n    <tr>\n      <th>3</th>\n      <td>Me right now 🙏🏻 https://t.co/gW55C1wrwd</td>\n      <td>11/01/2017 02:44</td>\n    </tr>\n    <tr>\n      <th>4</th>\n      <td>SISTERS ARE DOIN' IT FOR THEMSELVES! 🙌🏻💪🏻❤️ ht...</td>\n      <td>10/01/2017 05:22</td>\n    </tr>\n  </tbody>\n</table>\n</div>"
     },
     "execution_count": 24,
     "metadata": {},
     "output_type": "execute_result"
    }
   ],
   "source": [
    "df.head()"
   ],
   "metadata": {
    "collapsed": false,
    "pycharm": {
     "name": "#%%\n"
    }
   }
  },
  {
   "cell_type": "code",
   "execution_count": 25,
   "outputs": [],
   "source": [
    "df['date_time'] = pd.to_datetime(df.date_time)"
   ],
   "metadata": {
    "collapsed": false,
    "pycharm": {
     "name": "#%%\n"
    }
   }
  },
  {
   "cell_type": "code",
   "execution_count": 26,
   "outputs": [
    {
     "name": "stdout",
     "output_type": "stream",
     "text": [
      "<class 'pandas.core.frame.DataFrame'>\n",
      "RangeIndex: 52542 entries, 0 to 52541\n",
      "Data columns (total 2 columns):\n",
      " #   Column     Non-Null Count  Dtype         \n",
      "---  ------     --------------  -----         \n",
      " 0   content    52542 non-null  object        \n",
      " 1   date_time  52542 non-null  datetime64[ns]\n",
      "dtypes: datetime64[ns](1), object(1)\n",
      "memory usage: 821.1+ KB\n"
     ]
    }
   ],
   "source": [
    "df.info()"
   ],
   "metadata": {
    "collapsed": false,
    "pycharm": {
     "name": "#%%\n"
    }
   }
  },
  {
   "cell_type": "code",
   "execution_count": 27,
   "outputs": [],
   "source": [
    "def return_my_hashtag(series):\n",
    "    content, date_time = series\n",
    "    regex = r'#\\w+'\n",
    "    results = re.findall(regex, content)\n",
    "    if len(results) > 0:\n",
    "        return results\n",
    "    return np.nan"
   ],
   "metadata": {
    "collapsed": false,
    "pycharm": {
     "name": "#%%\n"
    }
   }
  },
  {
   "cell_type": "code",
   "execution_count": 28,
   "outputs": [],
   "source": [
    "df['hashtag'] = df.apply(return_my_hashtag, axis=1)"
   ],
   "metadata": {
    "collapsed": false,
    "pycharm": {
     "name": "#%%\n"
    }
   }
  },
  {
   "cell_type": "code",
   "execution_count": 29,
   "outputs": [
    {
     "data": {
      "text/plain": "                                                 content           date_time  \\\n0      Is history repeating itself...?#DONTNORMALIZEH... 2017-12-01 19:52:00   \n1      @barackobama Thank you for your incredible gra... 2017-11-01 08:38:00   \n2                    Life goals. https://t.co/XIn1qKMKQl 2017-11-01 02:52:00   \n3                Me right now 🙏🏻 https://t.co/gW55C1wrwd 2017-11-01 02:44:00   \n4      SISTERS ARE DOIN' IT FOR THEMSELVES! 🙌🏻💪🏻❤️ ht... 2017-10-01 05:22:00   \n...                                                  ...                 ...   \n52537               Life couldn't be better right now. 😊 2015-06-01 23:10:00   \n52538  First Monday back in action. I'd say 21.6 mile... 2015-06-01 02:17:00   \n52539  Crime shows, buddy, snuggles = the perfect Sun... 2015-05-01 03:42:00   \n52540                          ❄️ http://t.co/sHCFdPpGPa 2015-05-01 00:06:00   \n52541                      ❤️❄️✈️ http://t.co/ixmB5lv17Z 2015-05-01 00:02:00   \n\n                    hashtag  \n0      [#DONTNORMALIZEHATE]  \n1                       NaN  \n2                       NaN  \n3                       NaN  \n4                       NaN  \n...                     ...  \n52537                   NaN  \n52538                   NaN  \n52539                   NaN  \n52540                   NaN  \n52541                   NaN  \n\n[52542 rows x 3 columns]",
      "text/html": "<div>\n<style scoped>\n    .dataframe tbody tr th:only-of-type {\n        vertical-align: middle;\n    }\n\n    .dataframe tbody tr th {\n        vertical-align: top;\n    }\n\n    .dataframe thead th {\n        text-align: right;\n    }\n</style>\n<table border=\"1\" class=\"dataframe\">\n  <thead>\n    <tr style=\"text-align: right;\">\n      <th></th>\n      <th>content</th>\n      <th>date_time</th>\n      <th>hashtag</th>\n    </tr>\n  </thead>\n  <tbody>\n    <tr>\n      <th>0</th>\n      <td>Is history repeating itself...?#DONTNORMALIZEH...</td>\n      <td>2017-12-01 19:52:00</td>\n      <td>[#DONTNORMALIZEHATE]</td>\n    </tr>\n    <tr>\n      <th>1</th>\n      <td>@barackobama Thank you for your incredible gra...</td>\n      <td>2017-11-01 08:38:00</td>\n      <td>NaN</td>\n    </tr>\n    <tr>\n      <th>2</th>\n      <td>Life goals. https://t.co/XIn1qKMKQl</td>\n      <td>2017-11-01 02:52:00</td>\n      <td>NaN</td>\n    </tr>\n    <tr>\n      <th>3</th>\n      <td>Me right now 🙏🏻 https://t.co/gW55C1wrwd</td>\n      <td>2017-11-01 02:44:00</td>\n      <td>NaN</td>\n    </tr>\n    <tr>\n      <th>4</th>\n      <td>SISTERS ARE DOIN' IT FOR THEMSELVES! 🙌🏻💪🏻❤️ ht...</td>\n      <td>2017-10-01 05:22:00</td>\n      <td>NaN</td>\n    </tr>\n    <tr>\n      <th>...</th>\n      <td>...</td>\n      <td>...</td>\n      <td>...</td>\n    </tr>\n    <tr>\n      <th>52537</th>\n      <td>Life couldn't be better right now. 😊</td>\n      <td>2015-06-01 23:10:00</td>\n      <td>NaN</td>\n    </tr>\n    <tr>\n      <th>52538</th>\n      <td>First Monday back in action. I'd say 21.6 mile...</td>\n      <td>2015-06-01 02:17:00</td>\n      <td>NaN</td>\n    </tr>\n    <tr>\n      <th>52539</th>\n      <td>Crime shows, buddy, snuggles = the perfect Sun...</td>\n      <td>2015-05-01 03:42:00</td>\n      <td>NaN</td>\n    </tr>\n    <tr>\n      <th>52540</th>\n      <td>❄️ http://t.co/sHCFdPpGPa</td>\n      <td>2015-05-01 00:06:00</td>\n      <td>NaN</td>\n    </tr>\n    <tr>\n      <th>52541</th>\n      <td>❤️❄️✈️ http://t.co/ixmB5lv17Z</td>\n      <td>2015-05-01 00:02:00</td>\n      <td>NaN</td>\n    </tr>\n  </tbody>\n</table>\n<p>52542 rows × 3 columns</p>\n</div>"
     },
     "execution_count": 29,
     "metadata": {},
     "output_type": "execute_result"
    }
   ],
   "source": [
    "df"
   ],
   "metadata": {
    "collapsed": false,
    "pycharm": {
     "name": "#%%\n"
    }
   }
  },
  {
   "cell_type": "code",
   "execution_count": 30,
   "outputs": [
    {
     "name": "stdout",
     "output_type": "stream",
     "text": [
      "<class 'pandas.core.frame.DataFrame'>\n",
      "RangeIndex: 52542 entries, 0 to 52541\n",
      "Data columns (total 3 columns):\n",
      " #   Column     Non-Null Count  Dtype         \n",
      "---  ------     --------------  -----         \n",
      " 0   content    52542 non-null  object        \n",
      " 1   date_time  52542 non-null  datetime64[ns]\n",
      " 2   hashtag    20561 non-null  object        \n",
      "dtypes: datetime64[ns](1), object(2)\n",
      "memory usage: 1.2+ MB\n"
     ]
    }
   ],
   "source": [
    "df.info()"
   ],
   "metadata": {
    "collapsed": false,
    "pycharm": {
     "name": "#%%\n"
    }
   }
  },
  {
   "cell_type": "code",
   "execution_count": 31,
   "outputs": [],
   "source": [
    "df.dropna(axis=0, inplace=True)"
   ],
   "metadata": {
    "collapsed": false,
    "pycharm": {
     "name": "#%%\n"
    }
   }
  },
  {
   "cell_type": "code",
   "execution_count": 32,
   "outputs": [],
   "source": [
    "df = df.explode('hashtag')"
   ],
   "metadata": {
    "collapsed": false,
    "pycharm": {
     "name": "#%%\n"
    }
   }
  },
  {
   "cell_type": "code",
   "execution_count": 34,
   "outputs": [
    {
     "data": {
      "text/plain": "                                                 content           date_time  \\\n0      Is history repeating itself...?#DONTNORMALIZEH... 2017-12-01 19:52:00   \n5      happy 96th gma #fourmoreyears! 🎈 @ LACMA Los A... 2017-09-01 01:00:00   \n28     I dare you to find a better live vocal perform... 2016-01-12 07:08:00   \n29     This #Thanksgiving #IStandWithStandingRock tex... 2016-11-24 22:31:00   \n29     This #Thanksgiving #IStandWithStandingRock tex... 2016-11-24 22:31:00   \n...                                                  ...                 ...   \n52516  \"These are real pajamas.\" \"Huh??\" \"You asked m... 2015-12-01 08:17:00   \n52518  I guess you could say Buddy was pretty tired a... 2015-12-01 07:43:00   \n52526  Well, I didn't end up getting any brownie batt... 2015-11-01 06:35:00   \n52530  I’m going to #color2015 with health and love 💪... 2015-10-01 01:19:00   \n52531  Be a #HopeDealer, kick off 2015 by giving. htt... 2015-10-01 00:00:00   \n\n                       hashtag  \n0           #DONTNORMALIZEHATE  \n5               #fourmoreyears  \n28           #jenniferholliday  \n29               #Thanksgiving  \n29     #IStandWithStandingRock  \n...                        ...  \n52516            #sleeptalking  \n52518         #whitegirlwasted  \n52526               #20FITteen  \n52530               #color2015  \n52531              #HopeDealer  \n\n[25818 rows x 3 columns]",
      "text/html": "<div>\n<style scoped>\n    .dataframe tbody tr th:only-of-type {\n        vertical-align: middle;\n    }\n\n    .dataframe tbody tr th {\n        vertical-align: top;\n    }\n\n    .dataframe thead th {\n        text-align: right;\n    }\n</style>\n<table border=\"1\" class=\"dataframe\">\n  <thead>\n    <tr style=\"text-align: right;\">\n      <th></th>\n      <th>content</th>\n      <th>date_time</th>\n      <th>hashtag</th>\n    </tr>\n  </thead>\n  <tbody>\n    <tr>\n      <th>0</th>\n      <td>Is history repeating itself...?#DONTNORMALIZEH...</td>\n      <td>2017-12-01 19:52:00</td>\n      <td>#DONTNORMALIZEHATE</td>\n    </tr>\n    <tr>\n      <th>5</th>\n      <td>happy 96th gma #fourmoreyears! 🎈 @ LACMA Los A...</td>\n      <td>2017-09-01 01:00:00</td>\n      <td>#fourmoreyears</td>\n    </tr>\n    <tr>\n      <th>28</th>\n      <td>I dare you to find a better live vocal perform...</td>\n      <td>2016-01-12 07:08:00</td>\n      <td>#jenniferholliday</td>\n    </tr>\n    <tr>\n      <th>29</th>\n      <td>This #Thanksgiving #IStandWithStandingRock tex...</td>\n      <td>2016-11-24 22:31:00</td>\n      <td>#Thanksgiving</td>\n    </tr>\n    <tr>\n      <th>29</th>\n      <td>This #Thanksgiving #IStandWithStandingRock tex...</td>\n      <td>2016-11-24 22:31:00</td>\n      <td>#IStandWithStandingRock</td>\n    </tr>\n    <tr>\n      <th>...</th>\n      <td>...</td>\n      <td>...</td>\n      <td>...</td>\n    </tr>\n    <tr>\n      <th>52516</th>\n      <td>\"These are real pajamas.\" \"Huh??\" \"You asked m...</td>\n      <td>2015-12-01 08:17:00</td>\n      <td>#sleeptalking</td>\n    </tr>\n    <tr>\n      <th>52518</th>\n      <td>I guess you could say Buddy was pretty tired a...</td>\n      <td>2015-12-01 07:43:00</td>\n      <td>#whitegirlwasted</td>\n    </tr>\n    <tr>\n      <th>52526</th>\n      <td>Well, I didn't end up getting any brownie batt...</td>\n      <td>2015-11-01 06:35:00</td>\n      <td>#20FITteen</td>\n    </tr>\n    <tr>\n      <th>52530</th>\n      <td>I’m going to #color2015 with health and love 💪...</td>\n      <td>2015-10-01 01:19:00</td>\n      <td>#color2015</td>\n    </tr>\n    <tr>\n      <th>52531</th>\n      <td>Be a #HopeDealer, kick off 2015 by giving. htt...</td>\n      <td>2015-10-01 00:00:00</td>\n      <td>#HopeDealer</td>\n    </tr>\n  </tbody>\n</table>\n<p>25818 rows × 3 columns</p>\n</div>"
     },
     "execution_count": 34,
     "metadata": {},
     "output_type": "execute_result"
    }
   ],
   "source": [
    "df"
   ],
   "metadata": {
    "collapsed": false,
    "pycharm": {
     "name": "#%%\n"
    }
   }
  },
  {
   "cell_type": "code",
   "execution_count": 33,
   "outputs": [
    {
     "name": "stdout",
     "output_type": "stream",
     "text": [
      "<class 'pandas.core.frame.DataFrame'>\n",
      "Int64Index: 25818 entries, 0 to 52531\n",
      "Data columns (total 3 columns):\n",
      " #   Column     Non-Null Count  Dtype         \n",
      "---  ------     --------------  -----         \n",
      " 0   content    25818 non-null  object        \n",
      " 1   date_time  25818 non-null  datetime64[ns]\n",
      " 2   hashtag    25818 non-null  object        \n",
      "dtypes: datetime64[ns](1), object(2)\n",
      "memory usage: 806.8+ KB\n"
     ]
    }
   ],
   "source": [
    "df.info()"
   ],
   "metadata": {
    "collapsed": false,
    "pycharm": {
     "name": "#%%\n"
    }
   }
  },
  {
   "cell_type": "code",
   "execution_count": 35,
   "outputs": [],
   "source": [
    "def process_tweets_and_get_sentiment(tweet):\n",
    "    # remove all the RT\n",
    "    tweet = re.sub(r'^RT[\\s]+', '', tweet)\n",
    "    # remove hash signs\n",
    "    tweet = re.sub(r'#', '', tweet)\n",
    "    # remove mentions\n",
    "    tweet = re.sub(r'@[A-Za-z0-9]+', '', tweet)\n",
    "    # remove links\n",
    "    tweet = re.sub(r'https?:\\/\\/.*[\\r\\n]*', '', tweet)\n",
    "    # remove punctuation\n",
    "    tweet = re.sub(r'['+string.punctuation+']+', ' ', tweet)\n",
    "\n",
    "    # finally get the sentiment score\n",
    "    blob = TextBlob(tweet)\n",
    "    return blob.sentiment.polarity"
   ],
   "metadata": {
    "collapsed": false,
    "pycharm": {
     "name": "#%%\n"
    }
   }
  },
  {
   "cell_type": "code",
   "execution_count": 36,
   "outputs": [],
   "source": [
    "df['sentiment'] = df.content.apply(process_tweets_and_get_sentiment)"
   ],
   "metadata": {
    "collapsed": false,
    "pycharm": {
     "name": "#%%\n"
    }
   }
  },
  {
   "cell_type": "code",
   "execution_count": 37,
   "outputs": [
    {
     "data": {
      "text/plain": "                                                 content           date_time  \\\n0      Is history repeating itself...?#DONTNORMALIZEH... 2017-12-01 19:52:00   \n5      happy 96th gma #fourmoreyears! 🎈 @ LACMA Los A... 2017-09-01 01:00:00   \n28     I dare you to find a better live vocal perform... 2016-01-12 07:08:00   \n29     This #Thanksgiving #IStandWithStandingRock tex... 2016-11-24 22:31:00   \n29     This #Thanksgiving #IStandWithStandingRock tex... 2016-11-24 22:31:00   \n...                                                  ...                 ...   \n52516  \"These are real pajamas.\" \"Huh??\" \"You asked m... 2015-12-01 08:17:00   \n52518  I guess you could say Buddy was pretty tired a... 2015-12-01 07:43:00   \n52526  Well, I didn't end up getting any brownie batt... 2015-11-01 06:35:00   \n52530  I’m going to #color2015 with health and love 💪... 2015-10-01 01:19:00   \n52531  Be a #HopeDealer, kick off 2015 by giving. htt... 2015-10-01 00:00:00   \n\n                       hashtag  sentiment  \n0           #DONTNORMALIZEHATE   0.000000  \n5               #fourmoreyears   0.800000  \n28           #jenniferholliday   0.318182  \n29               #Thanksgiving   0.000000  \n29     #IStandWithStandingRock   0.000000  \n...                        ...        ...  \n52516            #sleeptalking   0.200000  \n52518         #whitegirlwasted  -0.183333  \n52526               #20FITteen   0.000000  \n52530               #color2015   0.500000  \n52531              #HopeDealer   0.000000  \n\n[25818 rows x 4 columns]",
      "text/html": "<div>\n<style scoped>\n    .dataframe tbody tr th:only-of-type {\n        vertical-align: middle;\n    }\n\n    .dataframe tbody tr th {\n        vertical-align: top;\n    }\n\n    .dataframe thead th {\n        text-align: right;\n    }\n</style>\n<table border=\"1\" class=\"dataframe\">\n  <thead>\n    <tr style=\"text-align: right;\">\n      <th></th>\n      <th>content</th>\n      <th>date_time</th>\n      <th>hashtag</th>\n      <th>sentiment</th>\n    </tr>\n  </thead>\n  <tbody>\n    <tr>\n      <th>0</th>\n      <td>Is history repeating itself...?#DONTNORMALIZEH...</td>\n      <td>2017-12-01 19:52:00</td>\n      <td>#DONTNORMALIZEHATE</td>\n      <td>0.000000</td>\n    </tr>\n    <tr>\n      <th>5</th>\n      <td>happy 96th gma #fourmoreyears! 🎈 @ LACMA Los A...</td>\n      <td>2017-09-01 01:00:00</td>\n      <td>#fourmoreyears</td>\n      <td>0.800000</td>\n    </tr>\n    <tr>\n      <th>28</th>\n      <td>I dare you to find a better live vocal perform...</td>\n      <td>2016-01-12 07:08:00</td>\n      <td>#jenniferholliday</td>\n      <td>0.318182</td>\n    </tr>\n    <tr>\n      <th>29</th>\n      <td>This #Thanksgiving #IStandWithStandingRock tex...</td>\n      <td>2016-11-24 22:31:00</td>\n      <td>#Thanksgiving</td>\n      <td>0.000000</td>\n    </tr>\n    <tr>\n      <th>29</th>\n      <td>This #Thanksgiving #IStandWithStandingRock tex...</td>\n      <td>2016-11-24 22:31:00</td>\n      <td>#IStandWithStandingRock</td>\n      <td>0.000000</td>\n    </tr>\n    <tr>\n      <th>...</th>\n      <td>...</td>\n      <td>...</td>\n      <td>...</td>\n      <td>...</td>\n    </tr>\n    <tr>\n      <th>52516</th>\n      <td>\"These are real pajamas.\" \"Huh??\" \"You asked m...</td>\n      <td>2015-12-01 08:17:00</td>\n      <td>#sleeptalking</td>\n      <td>0.200000</td>\n    </tr>\n    <tr>\n      <th>52518</th>\n      <td>I guess you could say Buddy was pretty tired a...</td>\n      <td>2015-12-01 07:43:00</td>\n      <td>#whitegirlwasted</td>\n      <td>-0.183333</td>\n    </tr>\n    <tr>\n      <th>52526</th>\n      <td>Well, I didn't end up getting any brownie batt...</td>\n      <td>2015-11-01 06:35:00</td>\n      <td>#20FITteen</td>\n      <td>0.000000</td>\n    </tr>\n    <tr>\n      <th>52530</th>\n      <td>I’m going to #color2015 with health and love 💪...</td>\n      <td>2015-10-01 01:19:00</td>\n      <td>#color2015</td>\n      <td>0.500000</td>\n    </tr>\n    <tr>\n      <th>52531</th>\n      <td>Be a #HopeDealer, kick off 2015 by giving. htt...</td>\n      <td>2015-10-01 00:00:00</td>\n      <td>#HopeDealer</td>\n      <td>0.000000</td>\n    </tr>\n  </tbody>\n</table>\n<p>25818 rows × 4 columns</p>\n</div>"
     },
     "execution_count": 37,
     "metadata": {},
     "output_type": "execute_result"
    }
   ],
   "source": [
    "df"
   ],
   "metadata": {
    "collapsed": false,
    "pycharm": {
     "name": "#%%\n"
    }
   }
  },
  {
   "cell_type": "code",
   "execution_count": null,
   "outputs": [],
   "source": [],
   "metadata": {
    "collapsed": false,
    "pycharm": {
     "name": "#%%\n"
    }
   }
  }
 ],
 "metadata": {
  "kernelspec": {
   "display_name": "Python 3",
   "language": "python",
   "name": "python3"
  },
  "language_info": {
   "codemirror_mode": {
    "name": "ipython",
    "version": 2
   },
   "file_extension": ".py",
   "mimetype": "text/x-python",
   "name": "python",
   "nbconvert_exporter": "python",
   "pygments_lexer": "ipython2",
   "version": "2.7.6"
  }
 },
 "nbformat": 4,
 "nbformat_minor": 0
}