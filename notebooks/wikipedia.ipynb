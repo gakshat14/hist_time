{
 "cells": [
  {
   "cell_type": "code",
   "execution_count": 15,
   "metadata": {
    "collapsed": true,
    "pycharm": {
     "name": "#%%\n"
    }
   },
   "outputs": [],
   "source": [
    "import pandas as pd\n",
    "import numpy as np\n",
    "import re"
   ]
  },
  {
   "cell_type": "code",
   "execution_count": 2,
   "outputs": [],
   "source": [
    "df = pd.read_csv('../Early_recessions_and_crises.csv')"
   ],
   "metadata": {
    "collapsed": false,
    "pycharm": {
     "name": "#%%\n"
    }
   }
  },
  {
   "cell_type": "code",
   "execution_count": 3,
   "outputs": [
    {
     "data": {
      "text/plain": "                   Name      Dates   Duration Time since previous recession  \\\n0         Panic of 1785  1785–1788   ~4 years                           NaN   \n1  Copper Panic of 1789  1789–1793   ~4 years                      ~0 years   \n2         Panic of 1792  1792–1792  ~2 months                      ~0 years   \n3    Panic of 1796–1797  1796–1799   ~3 years                      ~4 years   \n4   1802–1804 recession  1802–1804   ~2 years                      ~3 years   \n\n                                     Characteristics       Date  \\\n0  The panic of 1785, which lasted until 1788, en...  1785–1788   \n1  Loss of confidence in copper coins due to deba...  1789–1793   \n2  Its causes included the extension of credit an...  1792–1792   \n3  Just as a land speculation bubble was bursting...  1796–1799   \n4  A boom of war-time activity led to a decline a...  1802–1804   \n\n                  Event  \n0         Panic of 1785  \n1  Copper Panic of 1789  \n2         Panic of 1792  \n3    Panic of 1796–1797  \n4   1802–1804 recession  ",
      "text/html": "<div>\n<style scoped>\n    .dataframe tbody tr th:only-of-type {\n        vertical-align: middle;\n    }\n\n    .dataframe tbody tr th {\n        vertical-align: top;\n    }\n\n    .dataframe thead th {\n        text-align: right;\n    }\n</style>\n<table border=\"1\" class=\"dataframe\">\n  <thead>\n    <tr style=\"text-align: right;\">\n      <th></th>\n      <th>Name</th>\n      <th>Dates</th>\n      <th>Duration</th>\n      <th>Time since previous recession</th>\n      <th>Characteristics</th>\n      <th>Date</th>\n      <th>Event</th>\n    </tr>\n  </thead>\n  <tbody>\n    <tr>\n      <th>0</th>\n      <td>Panic of 1785</td>\n      <td>1785–1788</td>\n      <td>~4 years</td>\n      <td>NaN</td>\n      <td>The panic of 1785, which lasted until 1788, en...</td>\n      <td>1785–1788</td>\n      <td>Panic of 1785</td>\n    </tr>\n    <tr>\n      <th>1</th>\n      <td>Copper Panic of 1789</td>\n      <td>1789–1793</td>\n      <td>~4 years</td>\n      <td>~0 years</td>\n      <td>Loss of confidence in copper coins due to deba...</td>\n      <td>1789–1793</td>\n      <td>Copper Panic of 1789</td>\n    </tr>\n    <tr>\n      <th>2</th>\n      <td>Panic of 1792</td>\n      <td>1792–1792</td>\n      <td>~2 months</td>\n      <td>~0 years</td>\n      <td>Its causes included the extension of credit an...</td>\n      <td>1792–1792</td>\n      <td>Panic of 1792</td>\n    </tr>\n    <tr>\n      <th>3</th>\n      <td>Panic of 1796–1797</td>\n      <td>1796–1799</td>\n      <td>~3 years</td>\n      <td>~4 years</td>\n      <td>Just as a land speculation bubble was bursting...</td>\n      <td>1796–1799</td>\n      <td>Panic of 1796–1797</td>\n    </tr>\n    <tr>\n      <th>4</th>\n      <td>1802–1804 recession</td>\n      <td>1802–1804</td>\n      <td>~2 years</td>\n      <td>~3 years</td>\n      <td>A boom of war-time activity led to a decline a...</td>\n      <td>1802–1804</td>\n      <td>1802–1804 recession</td>\n    </tr>\n  </tbody>\n</table>\n</div>"
     },
     "execution_count": 3,
     "metadata": {},
     "output_type": "execute_result"
    }
   ],
   "source": [
    "df.head()"
   ],
   "metadata": {
    "collapsed": false,
    "pycharm": {
     "name": "#%%\n"
    }
   }
  },
  {
   "cell_type": "code",
   "execution_count": 4,
   "outputs": [
    {
     "data": {
      "text/plain": "                    Name      Dates   Duration Time since previous recession  \\\n0          Panic of 1785  1785–1788   ~4 years                           NaN   \n1   Copper Panic of 1789  1789–1793   ~4 years                      ~0 years   \n2          Panic of 1792  1792–1792  ~2 months                      ~0 years   \n3     Panic of 1796–1797  1796–1799   ~3 years                      ~4 years   \n4    1802–1804 recession  1802–1804   ~2 years                      ~3 years   \n5     Depression of 1807  1807–1810   ~3 years                      ~3 years   \n7   1815–1821 depression  1815–1821   ~6 years                      ~3 years   \n8    1822–1823 recession  1822–1823    ~1 year                       ~1 year   \n9    1825–1826 recession  1825–1826    ~1 year                      ~2 years   \n10   1828–1829 recession  1828–1829    ~1 year                      ~2 years   \n11   1833–1834 recession  1833–1834    ~1 year                      ~4 years   \n\n                                      Characteristics       Date  \\\n0   The panic of 1785, which lasted until 1788, en...  1785–1788   \n1   Loss of confidence in copper coins due to deba...  1789–1793   \n2   Its causes included the extension of credit an...  1792–1792   \n3   Just as a land speculation bubble was bursting...  1796–1799   \n4   A boom of war-time activity led to a decline a...  1802–1804   \n5   The Embargo Act of 1807 was passed by the Unit...  1807–1810   \n7   Shortly after the war ended on March 23, 1815,...  1815–1821   \n8   After only a mild recovery following the lengt...  1822–1823   \n9   The Panic of 1825, a stock crash following a b...  1825–1826   \n10  In 1826, England forbade the United States to ...  1828–1829   \n11  The United States' economy declined moderately...  1833–1834   \n\n                   Event  \n0          Panic of 1785  \n1   Copper Panic of 1789  \n2          Panic of 1792  \n3     Panic of 1796–1797  \n4    1802–1804 recession  \n5     Depression of 1807  \n7   1815–1821 depression  \n8    1822–1823 recession  \n9    1825–1826 recession  \n10   1828–1829 recession  \n11   1833–1834 recession  ",
      "text/html": "<div>\n<style scoped>\n    .dataframe tbody tr th:only-of-type {\n        vertical-align: middle;\n    }\n\n    .dataframe tbody tr th {\n        vertical-align: top;\n    }\n\n    .dataframe thead th {\n        text-align: right;\n    }\n</style>\n<table border=\"1\" class=\"dataframe\">\n  <thead>\n    <tr style=\"text-align: right;\">\n      <th></th>\n      <th>Name</th>\n      <th>Dates</th>\n      <th>Duration</th>\n      <th>Time since previous recession</th>\n      <th>Characteristics</th>\n      <th>Date</th>\n      <th>Event</th>\n    </tr>\n  </thead>\n  <tbody>\n    <tr>\n      <th>0</th>\n      <td>Panic of 1785</td>\n      <td>1785–1788</td>\n      <td>~4 years</td>\n      <td>NaN</td>\n      <td>The panic of 1785, which lasted until 1788, en...</td>\n      <td>1785–1788</td>\n      <td>Panic of 1785</td>\n    </tr>\n    <tr>\n      <th>1</th>\n      <td>Copper Panic of 1789</td>\n      <td>1789–1793</td>\n      <td>~4 years</td>\n      <td>~0 years</td>\n      <td>Loss of confidence in copper coins due to deba...</td>\n      <td>1789–1793</td>\n      <td>Copper Panic of 1789</td>\n    </tr>\n    <tr>\n      <th>2</th>\n      <td>Panic of 1792</td>\n      <td>1792–1792</td>\n      <td>~2 months</td>\n      <td>~0 years</td>\n      <td>Its causes included the extension of credit an...</td>\n      <td>1792–1792</td>\n      <td>Panic of 1792</td>\n    </tr>\n    <tr>\n      <th>3</th>\n      <td>Panic of 1796–1797</td>\n      <td>1796–1799</td>\n      <td>~3 years</td>\n      <td>~4 years</td>\n      <td>Just as a land speculation bubble was bursting...</td>\n      <td>1796–1799</td>\n      <td>Panic of 1796–1797</td>\n    </tr>\n    <tr>\n      <th>4</th>\n      <td>1802–1804 recession</td>\n      <td>1802–1804</td>\n      <td>~2 years</td>\n      <td>~3 years</td>\n      <td>A boom of war-time activity led to a decline a...</td>\n      <td>1802–1804</td>\n      <td>1802–1804 recession</td>\n    </tr>\n    <tr>\n      <th>5</th>\n      <td>Depression of 1807</td>\n      <td>1807–1810</td>\n      <td>~3 years</td>\n      <td>~3 years</td>\n      <td>The Embargo Act of 1807 was passed by the Unit...</td>\n      <td>1807–1810</td>\n      <td>Depression of 1807</td>\n    </tr>\n    <tr>\n      <th>7</th>\n      <td>1815–1821 depression</td>\n      <td>1815–1821</td>\n      <td>~6 years</td>\n      <td>~3 years</td>\n      <td>Shortly after the war ended on March 23, 1815,...</td>\n      <td>1815–1821</td>\n      <td>1815–1821 depression</td>\n    </tr>\n    <tr>\n      <th>8</th>\n      <td>1822–1823 recession</td>\n      <td>1822–1823</td>\n      <td>~1 year</td>\n      <td>~1 year</td>\n      <td>After only a mild recovery following the lengt...</td>\n      <td>1822–1823</td>\n      <td>1822–1823 recession</td>\n    </tr>\n    <tr>\n      <th>9</th>\n      <td>1825–1826 recession</td>\n      <td>1825–1826</td>\n      <td>~1 year</td>\n      <td>~2 years</td>\n      <td>The Panic of 1825, a stock crash following a b...</td>\n      <td>1825–1826</td>\n      <td>1825–1826 recession</td>\n    </tr>\n    <tr>\n      <th>10</th>\n      <td>1828–1829 recession</td>\n      <td>1828–1829</td>\n      <td>~1 year</td>\n      <td>~2 years</td>\n      <td>In 1826, England forbade the United States to ...</td>\n      <td>1828–1829</td>\n      <td>1828–1829 recession</td>\n    </tr>\n    <tr>\n      <th>11</th>\n      <td>1833–1834 recession</td>\n      <td>1833–1834</td>\n      <td>~1 year</td>\n      <td>~4 years</td>\n      <td>The United States' economy declined moderately...</td>\n      <td>1833–1834</td>\n      <td>1833–1834 recession</td>\n    </tr>\n  </tbody>\n</table>\n</div>"
     },
     "execution_count": 4,
     "metadata": {},
     "output_type": "execute_result"
    }
   ],
   "source": [
    "df[df.Date.str.contains('–')]"
   ],
   "metadata": {
    "collapsed": false,
    "pycharm": {
     "name": "#%%\n"
    }
   }
  },
  {
   "cell_type": "code",
   "execution_count": 5,
   "outputs": [
    {
     "ename": "KeyError",
     "evalue": "False",
     "output_type": "error",
     "traceback": [
      "\u001B[1;31m---------------------------------------------------------------------------\u001B[0m",
      "\u001B[1;31mKeyError\u001B[0m                                  Traceback (most recent call last)",
      "File \u001B[1;32m~\\AppData\\Roaming\\Python\\Python310\\site-packages\\pandas\\core\\indexes\\base.py:3621\u001B[0m, in \u001B[0;36mIndex.get_loc\u001B[1;34m(self, key, method, tolerance)\u001B[0m\n\u001B[0;32m   3620\u001B[0m \u001B[38;5;28;01mtry\u001B[39;00m:\n\u001B[1;32m-> 3621\u001B[0m     \u001B[38;5;28;01mreturn\u001B[39;00m \u001B[38;5;28;43mself\u001B[39;49m\u001B[38;5;241;43m.\u001B[39;49m\u001B[43m_engine\u001B[49m\u001B[38;5;241;43m.\u001B[39;49m\u001B[43mget_loc\u001B[49m\u001B[43m(\u001B[49m\u001B[43mcasted_key\u001B[49m\u001B[43m)\u001B[49m\n\u001B[0;32m   3622\u001B[0m \u001B[38;5;28;01mexcept\u001B[39;00m \u001B[38;5;167;01mKeyError\u001B[39;00m \u001B[38;5;28;01mas\u001B[39;00m err:\n",
      "File \u001B[1;32m~\\AppData\\Roaming\\Python\\Python310\\site-packages\\pandas\\_libs\\index.pyx:136\u001B[0m, in \u001B[0;36mpandas._libs.index.IndexEngine.get_loc\u001B[1;34m()\u001B[0m\n",
      "File \u001B[1;32m~\\AppData\\Roaming\\Python\\Python310\\site-packages\\pandas\\_libs\\index.pyx:163\u001B[0m, in \u001B[0;36mpandas._libs.index.IndexEngine.get_loc\u001B[1;34m()\u001B[0m\n",
      "File \u001B[1;32mpandas\\_libs\\hashtable_class_helper.pxi:5198\u001B[0m, in \u001B[0;36mpandas._libs.hashtable.PyObjectHashTable.get_item\u001B[1;34m()\u001B[0m\n",
      "File \u001B[1;32mpandas\\_libs\\hashtable_class_helper.pxi:5206\u001B[0m, in \u001B[0;36mpandas._libs.hashtable.PyObjectHashTable.get_item\u001B[1;34m()\u001B[0m\n",
      "\u001B[1;31mKeyError\u001B[0m: False",
      "\nThe above exception was the direct cause of the following exception:\n",
      "\u001B[1;31mKeyError\u001B[0m                                  Traceback (most recent call last)",
      "Input \u001B[1;32mIn [5]\u001B[0m, in \u001B[0;36m<cell line: 1>\u001B[1;34m()\u001B[0m\n\u001B[1;32m----> 1\u001B[0m \u001B[43mdf\u001B[49m\u001B[43m[\u001B[49m\u001B[43mdf\u001B[49m\u001B[38;5;241;43m.\u001B[39;49m\u001B[43mDate\u001B[49m\u001B[38;5;241;43m.\u001B[39;49m\u001B[43mstr\u001B[49m\u001B[38;5;241;43m.\u001B[39;49m\u001B[43mcontains\u001B[49m\u001B[43m \u001B[49m\u001B[38;5;241;43m==\u001B[39;49m\u001B[43m \u001B[49m\u001B[38;5;124;43m'\u001B[39;49m\u001B[38;5;124;43m–\u001B[39;49m\u001B[38;5;124;43m'\u001B[39;49m\u001B[43m]\u001B[49m\n",
      "File \u001B[1;32m~\\AppData\\Roaming\\Python\\Python310\\site-packages\\pandas\\core\\frame.py:3505\u001B[0m, in \u001B[0;36mDataFrame.__getitem__\u001B[1;34m(self, key)\u001B[0m\n\u001B[0;32m   3503\u001B[0m \u001B[38;5;28;01mif\u001B[39;00m \u001B[38;5;28mself\u001B[39m\u001B[38;5;241m.\u001B[39mcolumns\u001B[38;5;241m.\u001B[39mnlevels \u001B[38;5;241m>\u001B[39m \u001B[38;5;241m1\u001B[39m:\n\u001B[0;32m   3504\u001B[0m     \u001B[38;5;28;01mreturn\u001B[39;00m \u001B[38;5;28mself\u001B[39m\u001B[38;5;241m.\u001B[39m_getitem_multilevel(key)\n\u001B[1;32m-> 3505\u001B[0m indexer \u001B[38;5;241m=\u001B[39m \u001B[38;5;28;43mself\u001B[39;49m\u001B[38;5;241;43m.\u001B[39;49m\u001B[43mcolumns\u001B[49m\u001B[38;5;241;43m.\u001B[39;49m\u001B[43mget_loc\u001B[49m\u001B[43m(\u001B[49m\u001B[43mkey\u001B[49m\u001B[43m)\u001B[49m\n\u001B[0;32m   3506\u001B[0m \u001B[38;5;28;01mif\u001B[39;00m is_integer(indexer):\n\u001B[0;32m   3507\u001B[0m     indexer \u001B[38;5;241m=\u001B[39m [indexer]\n",
      "File \u001B[1;32m~\\AppData\\Roaming\\Python\\Python310\\site-packages\\pandas\\core\\indexes\\base.py:3623\u001B[0m, in \u001B[0;36mIndex.get_loc\u001B[1;34m(self, key, method, tolerance)\u001B[0m\n\u001B[0;32m   3621\u001B[0m     \u001B[38;5;28;01mreturn\u001B[39;00m \u001B[38;5;28mself\u001B[39m\u001B[38;5;241m.\u001B[39m_engine\u001B[38;5;241m.\u001B[39mget_loc(casted_key)\n\u001B[0;32m   3622\u001B[0m \u001B[38;5;28;01mexcept\u001B[39;00m \u001B[38;5;167;01mKeyError\u001B[39;00m \u001B[38;5;28;01mas\u001B[39;00m err:\n\u001B[1;32m-> 3623\u001B[0m     \u001B[38;5;28;01mraise\u001B[39;00m \u001B[38;5;167;01mKeyError\u001B[39;00m(key) \u001B[38;5;28;01mfrom\u001B[39;00m \u001B[38;5;21;01merr\u001B[39;00m\n\u001B[0;32m   3624\u001B[0m \u001B[38;5;28;01mexcept\u001B[39;00m \u001B[38;5;167;01mTypeError\u001B[39;00m:\n\u001B[0;32m   3625\u001B[0m     \u001B[38;5;66;03m# If we have a listlike key, _check_indexing_error will raise\u001B[39;00m\n\u001B[0;32m   3626\u001B[0m     \u001B[38;5;66;03m#  InvalidIndexError. Otherwise we fall through and re-raise\u001B[39;00m\n\u001B[0;32m   3627\u001B[0m     \u001B[38;5;66;03m#  the TypeError.\u001B[39;00m\n\u001B[0;32m   3628\u001B[0m     \u001B[38;5;28mself\u001B[39m\u001B[38;5;241m.\u001B[39m_check_indexing_error(key)\n",
      "\u001B[1;31mKeyError\u001B[0m: False"
     ]
    }
   ],
   "source": [
    "df[df.Date.str.contains == '–']"
   ],
   "metadata": {
    "collapsed": false,
    "pycharm": {
     "name": "#%%\n"
    }
   }
  },
  {
   "cell_type": "code",
   "execution_count": 6,
   "outputs": [],
   "source": [
    "df_start = df.Date.str.split('–')"
   ],
   "metadata": {
    "collapsed": false,
    "pycharm": {
     "name": "#%%\n"
    }
   }
  },
  {
   "cell_type": "code",
   "execution_count": 7,
   "outputs": [
    {
     "data": {
      "text/plain": "0     [1785, 1788]\n1     [1789, 1793]\n2     [1792, 1792]\n3     [1796, 1799]\n4     [1802, 1804]\n5     [1807, 1810]\n6           [1812]\n7     [1815, 1821]\n8     [1822, 1823]\n9     [1825, 1826]\n10    [1828, 1829]\n11    [1833, 1834]\nName: Date, dtype: object"
     },
     "execution_count": 7,
     "metadata": {},
     "output_type": "execute_result"
    }
   ],
   "source": [
    "df_start"
   ],
   "metadata": {
    "collapsed": false,
    "pycharm": {
     "name": "#%%\n"
    }
   }
  },
  {
   "cell_type": "code",
   "execution_count": 25,
   "outputs": [],
   "source": [
    "df_start_seq = [start[len(start) - 2] for start in df_start]"
   ],
   "metadata": {
    "collapsed": false,
    "pycharm": {
     "name": "#%%\n"
    }
   }
  },
  {
   "cell_type": "code",
   "execution_count": 29,
   "outputs": [
    {
     "data": {
      "text/plain": "['1785',\n '1789',\n '1792',\n '1796',\n '1802',\n '1807',\n '1812',\n '1815',\n '1822',\n '1825',\n '1828',\n '1833']"
     },
     "execution_count": 29,
     "metadata": {},
     "output_type": "execute_result"
    }
   ],
   "source": [
    "df_start_seq"
   ],
   "metadata": {
    "collapsed": false,
    "pycharm": {
     "name": "#%%\n"
    }
   }
  },
  {
   "cell_type": "code",
   "execution_count": 9,
   "outputs": [],
   "source": [
    "df['Start Date'] = pd.to_datetime(df_start_seq)"
   ],
   "metadata": {
    "collapsed": false,
    "pycharm": {
     "name": "#%%\n"
    }
   }
  },
  {
   "cell_type": "code",
   "execution_count": 10,
   "outputs": [
    {
     "data": {
      "text/plain": "                    Name      Dates   Duration Time since previous recession  \\\n0          Panic of 1785  1785–1788   ~4 years                           NaN   \n1   Copper Panic of 1789  1789–1793   ~4 years                      ~0 years   \n2          Panic of 1792  1792–1792  ~2 months                      ~0 years   \n3     Panic of 1796–1797  1796–1799   ~3 years                      ~4 years   \n4    1802–1804 recession  1802–1804   ~2 years                      ~3 years   \n5     Depression of 1807  1807–1810   ~3 years                      ~3 years   \n6         1812 recession       1812  ~6 months                    ~18 months   \n7   1815–1821 depression  1815–1821   ~6 years                      ~3 years   \n8    1822–1823 recession  1822–1823    ~1 year                       ~1 year   \n9    1825–1826 recession  1825–1826    ~1 year                      ~2 years   \n10   1828–1829 recession  1828–1829    ~1 year                      ~2 years   \n11   1833–1834 recession  1833–1834    ~1 year                      ~4 years   \n\n                                      Characteristics       Date  \\\n0   The panic of 1785, which lasted until 1788, en...  1785–1788   \n1   Loss of confidence in copper coins due to deba...  1789–1793   \n2   Its causes included the extension of credit an...  1792–1792   \n3   Just as a land speculation bubble was bursting...  1796–1799   \n4   A boom of war-time activity led to a decline a...  1802–1804   \n5   The Embargo Act of 1807 was passed by the Unit...  1807–1810   \n6   The United States entered a brief recession at...       1812   \n7   Shortly after the war ended on March 23, 1815,...  1815–1821   \n8   After only a mild recovery following the lengt...  1822–1823   \n9   The Panic of 1825, a stock crash following a b...  1825–1826   \n10  In 1826, England forbade the United States to ...  1828–1829   \n11  The United States' economy declined moderately...  1833–1834   \n\n                   Event Start Date  \n0          Panic of 1785 1785-01-01  \n1   Copper Panic of 1789 1789-01-01  \n2          Panic of 1792 1792-01-01  \n3     Panic of 1796–1797 1796-01-01  \n4    1802–1804 recession 1802-01-01  \n5     Depression of 1807 1807-01-01  \n6         1812 recession 1812-01-01  \n7   1815–1821 depression 1815-01-01  \n8    1822–1823 recession 1822-01-01  \n9    1825–1826 recession 1825-01-01  \n10   1828–1829 recession 1828-01-01  \n11   1833–1834 recession 1833-01-01  ",
      "text/html": "<div>\n<style scoped>\n    .dataframe tbody tr th:only-of-type {\n        vertical-align: middle;\n    }\n\n    .dataframe tbody tr th {\n        vertical-align: top;\n    }\n\n    .dataframe thead th {\n        text-align: right;\n    }\n</style>\n<table border=\"1\" class=\"dataframe\">\n  <thead>\n    <tr style=\"text-align: right;\">\n      <th></th>\n      <th>Name</th>\n      <th>Dates</th>\n      <th>Duration</th>\n      <th>Time since previous recession</th>\n      <th>Characteristics</th>\n      <th>Date</th>\n      <th>Event</th>\n      <th>Start Date</th>\n    </tr>\n  </thead>\n  <tbody>\n    <tr>\n      <th>0</th>\n      <td>Panic of 1785</td>\n      <td>1785–1788</td>\n      <td>~4 years</td>\n      <td>NaN</td>\n      <td>The panic of 1785, which lasted until 1788, en...</td>\n      <td>1785–1788</td>\n      <td>Panic of 1785</td>\n      <td>1785-01-01</td>\n    </tr>\n    <tr>\n      <th>1</th>\n      <td>Copper Panic of 1789</td>\n      <td>1789–1793</td>\n      <td>~4 years</td>\n      <td>~0 years</td>\n      <td>Loss of confidence in copper coins due to deba...</td>\n      <td>1789–1793</td>\n      <td>Copper Panic of 1789</td>\n      <td>1789-01-01</td>\n    </tr>\n    <tr>\n      <th>2</th>\n      <td>Panic of 1792</td>\n      <td>1792–1792</td>\n      <td>~2 months</td>\n      <td>~0 years</td>\n      <td>Its causes included the extension of credit an...</td>\n      <td>1792–1792</td>\n      <td>Panic of 1792</td>\n      <td>1792-01-01</td>\n    </tr>\n    <tr>\n      <th>3</th>\n      <td>Panic of 1796–1797</td>\n      <td>1796–1799</td>\n      <td>~3 years</td>\n      <td>~4 years</td>\n      <td>Just as a land speculation bubble was bursting...</td>\n      <td>1796–1799</td>\n      <td>Panic of 1796–1797</td>\n      <td>1796-01-01</td>\n    </tr>\n    <tr>\n      <th>4</th>\n      <td>1802–1804 recession</td>\n      <td>1802–1804</td>\n      <td>~2 years</td>\n      <td>~3 years</td>\n      <td>A boom of war-time activity led to a decline a...</td>\n      <td>1802–1804</td>\n      <td>1802–1804 recession</td>\n      <td>1802-01-01</td>\n    </tr>\n    <tr>\n      <th>5</th>\n      <td>Depression of 1807</td>\n      <td>1807–1810</td>\n      <td>~3 years</td>\n      <td>~3 years</td>\n      <td>The Embargo Act of 1807 was passed by the Unit...</td>\n      <td>1807–1810</td>\n      <td>Depression of 1807</td>\n      <td>1807-01-01</td>\n    </tr>\n    <tr>\n      <th>6</th>\n      <td>1812 recession</td>\n      <td>1812</td>\n      <td>~6 months</td>\n      <td>~18 months</td>\n      <td>The United States entered a brief recession at...</td>\n      <td>1812</td>\n      <td>1812 recession</td>\n      <td>1812-01-01</td>\n    </tr>\n    <tr>\n      <th>7</th>\n      <td>1815–1821 depression</td>\n      <td>1815–1821</td>\n      <td>~6 years</td>\n      <td>~3 years</td>\n      <td>Shortly after the war ended on March 23, 1815,...</td>\n      <td>1815–1821</td>\n      <td>1815–1821 depression</td>\n      <td>1815-01-01</td>\n    </tr>\n    <tr>\n      <th>8</th>\n      <td>1822–1823 recession</td>\n      <td>1822–1823</td>\n      <td>~1 year</td>\n      <td>~1 year</td>\n      <td>After only a mild recovery following the lengt...</td>\n      <td>1822–1823</td>\n      <td>1822–1823 recession</td>\n      <td>1822-01-01</td>\n    </tr>\n    <tr>\n      <th>9</th>\n      <td>1825–1826 recession</td>\n      <td>1825–1826</td>\n      <td>~1 year</td>\n      <td>~2 years</td>\n      <td>The Panic of 1825, a stock crash following a b...</td>\n      <td>1825–1826</td>\n      <td>1825–1826 recession</td>\n      <td>1825-01-01</td>\n    </tr>\n    <tr>\n      <th>10</th>\n      <td>1828–1829 recession</td>\n      <td>1828–1829</td>\n      <td>~1 year</td>\n      <td>~2 years</td>\n      <td>In 1826, England forbade the United States to ...</td>\n      <td>1828–1829</td>\n      <td>1828–1829 recession</td>\n      <td>1828-01-01</td>\n    </tr>\n    <tr>\n      <th>11</th>\n      <td>1833–1834 recession</td>\n      <td>1833–1834</td>\n      <td>~1 year</td>\n      <td>~4 years</td>\n      <td>The United States' economy declined moderately...</td>\n      <td>1833–1834</td>\n      <td>1833–1834 recession</td>\n      <td>1833-01-01</td>\n    </tr>\n  </tbody>\n</table>\n</div>"
     },
     "execution_count": 10,
     "metadata": {},
     "output_type": "execute_result"
    }
   ],
   "source": [
    "df"
   ],
   "metadata": {
    "collapsed": false,
    "pycharm": {
     "name": "#%%\n"
    }
   }
  },
  {
   "cell_type": "code",
   "execution_count": 11,
   "outputs": [],
   "source": [
    "df['End Date'] = pd.to_datetime([start[len(start) - 1] for start in df_start])"
   ],
   "metadata": {
    "collapsed": false,
    "pycharm": {
     "name": "#%%\n"
    }
   }
  },
  {
   "cell_type": "code",
   "execution_count": 12,
   "outputs": [],
   "source": [
    "df.loc[7, 'Start Date'] = pd.NaT"
   ],
   "metadata": {
    "collapsed": false,
    "pycharm": {
     "name": "#%%\n"
    }
   }
  },
  {
   "cell_type": "code",
   "execution_count": 24,
   "outputs": [
    {
     "name": "stdout",
     "output_type": "stream",
     "text": [
      "<class 'pandas.core.frame.DataFrame'>\n",
      "RangeIndex: 12 entries, 0 to 11\n",
      "Data columns (total 9 columns):\n",
      " #   Column                         Non-Null Count  Dtype         \n",
      "---  ------                         --------------  -----         \n",
      " 0   Name                           12 non-null     object        \n",
      " 1   Dates                          12 non-null     object        \n",
      " 2   Duration                       12 non-null     object        \n",
      " 3   Time since previous recession  11 non-null     object        \n",
      " 4   Characteristics                12 non-null     object        \n",
      " 5   Date                           12 non-null     object        \n",
      " 6   Event                          12 non-null     object        \n",
      " 7   Start Date                     11 non-null     datetime64[ns]\n",
      " 8   End Date                       12 non-null     datetime64[ns]\n",
      "dtypes: datetime64[ns](2), object(7)\n",
      "memory usage: 992.0+ bytes\n"
     ]
    }
   ],
   "source": [
    "df.info()"
   ],
   "metadata": {
    "collapsed": false,
    "pycharm": {
     "name": "#%%\n"
    }
   }
  },
  {
   "cell_type": "code",
   "execution_count": 14,
   "outputs": [],
   "source": [
    "df_end_seq = [start[len(start) - 1] for start in df_start]"
   ],
   "metadata": {
    "collapsed": false,
    "pycharm": {
     "name": "#%%\n"
    }
   }
  },
  {
   "cell_type": "code",
   "execution_count": 15,
   "outputs": [
    {
     "data": {
      "text/plain": "['1788',\n '1793',\n '1792',\n '1799',\n '1804',\n '1810',\n '1812',\n '1821',\n '1823',\n '1826',\n '1829',\n '1834']"
     },
     "execution_count": 15,
     "metadata": {},
     "output_type": "execute_result"
    }
   ],
   "source": [
    "df_end_seq"
   ],
   "metadata": {
    "collapsed": false,
    "pycharm": {
     "name": "#%%\n"
    }
   }
  },
  {
   "cell_type": "code",
   "execution_count": 16,
   "outputs": [],
   "source": [
    "df_null = df[pd.isnull(df['Start Date'])]"
   ],
   "metadata": {
    "collapsed": false,
    "pycharm": {
     "name": "#%%\n"
    }
   }
  },
  {
   "cell_type": "code",
   "execution_count": 17,
   "outputs": [
    {
     "data": {
      "text/plain": "                   Name      Dates  Duration Time since previous recession  \\\n7  1815–1821 depression  1815–1821  ~6 years                      ~3 years   \n\n                                     Characteristics       Date  \\\n7  Shortly after the war ended on March 23, 1815,...  1815–1821   \n\n                  Event Start Date   End Date  \n7  1815–1821 depression        NaT 1821-01-01  ",
      "text/html": "<div>\n<style scoped>\n    .dataframe tbody tr th:only-of-type {\n        vertical-align: middle;\n    }\n\n    .dataframe tbody tr th {\n        vertical-align: top;\n    }\n\n    .dataframe thead th {\n        text-align: right;\n    }\n</style>\n<table border=\"1\" class=\"dataframe\">\n  <thead>\n    <tr style=\"text-align: right;\">\n      <th></th>\n      <th>Name</th>\n      <th>Dates</th>\n      <th>Duration</th>\n      <th>Time since previous recession</th>\n      <th>Characteristics</th>\n      <th>Date</th>\n      <th>Event</th>\n      <th>Start Date</th>\n      <th>End Date</th>\n    </tr>\n  </thead>\n  <tbody>\n    <tr>\n      <th>7</th>\n      <td>1815–1821 depression</td>\n      <td>1815–1821</td>\n      <td>~6 years</td>\n      <td>~3 years</td>\n      <td>Shortly after the war ended on March 23, 1815,...</td>\n      <td>1815–1821</td>\n      <td>1815–1821 depression</td>\n      <td>NaT</td>\n      <td>1821-01-01</td>\n    </tr>\n  </tbody>\n</table>\n</div>"
     },
     "execution_count": 17,
     "metadata": {},
     "output_type": "execute_result"
    }
   ],
   "source": [
    "df_null"
   ],
   "metadata": {
    "collapsed": false,
    "pycharm": {
     "name": "#%%\n"
    }
   }
  },
  {
   "cell_type": "code",
   "execution_count": 18,
   "outputs": [
    {
     "name": "stdout",
     "output_type": "stream",
     "text": [
      "7\n"
     ]
    }
   ],
   "source": [
    "for index, value in df_null.iterrows():\n",
    "    print(index)"
   ],
   "metadata": {
    "collapsed": false,
    "pycharm": {
     "name": "#%%\n"
    }
   }
  },
  {
   "cell_type": "code",
   "execution_count": 32,
   "outputs": [],
   "source": [
    "df_earth = pd.read_csv('../Deadliest_earthquakes_by_year.csv')"
   ],
   "metadata": {
    "collapsed": false,
    "pycharm": {
     "name": "#%%\n"
    }
   }
  },
  {
   "cell_type": "code",
   "execution_count": 33,
   "outputs": [
    {
     "data": {
      "text/plain": "    Year Magnitude                                 Location  Depth (km)   MMI  \\\n0   1960       5.8                     Morocco, Souss-Massa        15.0     X   \n1   1961       6.4                      Iran, Fars Province        15.0  VIII   \n2   1962       7.0                    Iran, Qazvin Province        10.0    IX   \n3   1963       6.0  Yugoslavia, Republic of North Macedonia        15.0     X   \n4   1964       9.2                    United States, Alaska        25.0    XI   \n..   ...       ...                                      ...         ...   ...   \n58  2018       7.5                          Indonesia, Palu        20.0     X   \n59  2019       6.4                          Albania, Durrës        10.0  VIII   \n60  2020       7.0                       Greece, Aegean Sea        21.0  VIII   \n61  2021       7.2                            Haiti, Nippes        10.0    IX   \n62  2022       6.0                       Afghanistan, Khost        10.0  VIII   \n\n                                                Notes  \\\n0   Worst earthquake in Moroccan history. Between ...   \n1                              60 people were killed.   \n2   12,225 killed, and major property damage was c...   \n3   1,070 people perished and 80 percent of Skopje...   \n4   It is the largest earthquake ever recorded in ...   \n..                                                ...   \n58  At least 4,340 people killed, 10,679 and 1.5 m...   \n59  At least 51 people killed, 3,000 people injure...   \n60  At least 119 people killed, 1,096 people were ...   \n61  At least 2,248 people killed, 12,763 people we...   \n62  At least 1,163 people were killed and 6,027 ot...   \n\n                                   Event  Date  \n0                 1960 Agadir earthquake  1960  \n1                   1961 Fars earthquake  1961  \n2             1962 Buin Zahra earthquake  1962  \n3                 1963 Skopje earthquake  1963  \n4                 1964 Alaska earthquake  1964  \n..                                   ...   ...  \n58  2018 Sulawesi earthquake and tsunami  2018  \n59               2019 Albania earthquake  2019  \n60            2020 Aegean Sea earthquake  2020  \n61                 2021 Haiti earthquake  2021  \n62      June 2022 Afghanistan earthquake  2022  \n\n[63 rows x 8 columns]",
      "text/html": "<div>\n<style scoped>\n    .dataframe tbody tr th:only-of-type {\n        vertical-align: middle;\n    }\n\n    .dataframe tbody tr th {\n        vertical-align: top;\n    }\n\n    .dataframe thead th {\n        text-align: right;\n    }\n</style>\n<table border=\"1\" class=\"dataframe\">\n  <thead>\n    <tr style=\"text-align: right;\">\n      <th></th>\n      <th>Year</th>\n      <th>Magnitude</th>\n      <th>Location</th>\n      <th>Depth (km)</th>\n      <th>MMI</th>\n      <th>Notes</th>\n      <th>Event</th>\n      <th>Date</th>\n    </tr>\n  </thead>\n  <tbody>\n    <tr>\n      <th>0</th>\n      <td>1960</td>\n      <td>5.8</td>\n      <td>Morocco, Souss-Massa</td>\n      <td>15.0</td>\n      <td>X</td>\n      <td>Worst earthquake in Moroccan history. Between ...</td>\n      <td>1960 Agadir earthquake</td>\n      <td>1960</td>\n    </tr>\n    <tr>\n      <th>1</th>\n      <td>1961</td>\n      <td>6.4</td>\n      <td>Iran, Fars Province</td>\n      <td>15.0</td>\n      <td>VIII</td>\n      <td>60 people were killed.</td>\n      <td>1961 Fars earthquake</td>\n      <td>1961</td>\n    </tr>\n    <tr>\n      <th>2</th>\n      <td>1962</td>\n      <td>7.0</td>\n      <td>Iran, Qazvin Province</td>\n      <td>10.0</td>\n      <td>IX</td>\n      <td>12,225 killed, and major property damage was c...</td>\n      <td>1962 Buin Zahra earthquake</td>\n      <td>1962</td>\n    </tr>\n    <tr>\n      <th>3</th>\n      <td>1963</td>\n      <td>6.0</td>\n      <td>Yugoslavia, Republic of North Macedonia</td>\n      <td>15.0</td>\n      <td>X</td>\n      <td>1,070 people perished and 80 percent of Skopje...</td>\n      <td>1963 Skopje earthquake</td>\n      <td>1963</td>\n    </tr>\n    <tr>\n      <th>4</th>\n      <td>1964</td>\n      <td>9.2</td>\n      <td>United States, Alaska</td>\n      <td>25.0</td>\n      <td>XI</td>\n      <td>It is the largest earthquake ever recorded in ...</td>\n      <td>1964 Alaska earthquake</td>\n      <td>1964</td>\n    </tr>\n    <tr>\n      <th>...</th>\n      <td>...</td>\n      <td>...</td>\n      <td>...</td>\n      <td>...</td>\n      <td>...</td>\n      <td>...</td>\n      <td>...</td>\n      <td>...</td>\n    </tr>\n    <tr>\n      <th>58</th>\n      <td>2018</td>\n      <td>7.5</td>\n      <td>Indonesia, Palu</td>\n      <td>20.0</td>\n      <td>X</td>\n      <td>At least 4,340 people killed, 10,679 and 1.5 m...</td>\n      <td>2018 Sulawesi earthquake and tsunami</td>\n      <td>2018</td>\n    </tr>\n    <tr>\n      <th>59</th>\n      <td>2019</td>\n      <td>6.4</td>\n      <td>Albania, Durrës</td>\n      <td>10.0</td>\n      <td>VIII</td>\n      <td>At least 51 people killed, 3,000 people injure...</td>\n      <td>2019 Albania earthquake</td>\n      <td>2019</td>\n    </tr>\n    <tr>\n      <th>60</th>\n      <td>2020</td>\n      <td>7.0</td>\n      <td>Greece, Aegean Sea</td>\n      <td>21.0</td>\n      <td>VIII</td>\n      <td>At least 119 people killed, 1,096 people were ...</td>\n      <td>2020 Aegean Sea earthquake</td>\n      <td>2020</td>\n    </tr>\n    <tr>\n      <th>61</th>\n      <td>2021</td>\n      <td>7.2</td>\n      <td>Haiti, Nippes</td>\n      <td>10.0</td>\n      <td>IX</td>\n      <td>At least 2,248 people killed, 12,763 people we...</td>\n      <td>2021 Haiti earthquake</td>\n      <td>2021</td>\n    </tr>\n    <tr>\n      <th>62</th>\n      <td>2022</td>\n      <td>6.0</td>\n      <td>Afghanistan, Khost</td>\n      <td>10.0</td>\n      <td>VIII</td>\n      <td>At least 1,163 people were killed and 6,027 ot...</td>\n      <td>June 2022 Afghanistan earthquake</td>\n      <td>2022</td>\n    </tr>\n  </tbody>\n</table>\n<p>63 rows × 8 columns</p>\n</div>"
     },
     "execution_count": 33,
     "metadata": {},
     "output_type": "execute_result"
    }
   ],
   "source": [
    "df_earth"
   ],
   "metadata": {
    "collapsed": false,
    "pycharm": {
     "name": "#%%\n"
    }
   }
  },
  {
   "cell_type": "code",
   "execution_count": 22,
   "outputs": [],
   "source": [],
   "metadata": {
    "collapsed": false,
    "pycharm": {
     "name": "#%%\n"
    }
   }
  },
  {
   "cell_type": "code",
   "execution_count": 34,
   "outputs": [],
   "source": [
    "df_earth['Date'] = df_earth['Date'].astype(str)"
   ],
   "metadata": {
    "collapsed": false,
    "pycharm": {
     "name": "#%%\n"
    }
   }
  },
  {
   "cell_type": "code",
   "execution_count": 35,
   "outputs": [
    {
     "data": {
      "text/plain": "    Year Magnitude                                 Location  Depth (km)   MMI  \\\n0   1960       5.8                     Morocco, Souss-Massa        15.0     X   \n1   1961       6.4                      Iran, Fars Province        15.0  VIII   \n2   1962       7.0                    Iran, Qazvin Province        10.0    IX   \n3   1963       6.0  Yugoslavia, Republic of North Macedonia        15.0     X   \n4   1964       9.2                    United States, Alaska        25.0    XI   \n..   ...       ...                                      ...         ...   ...   \n58  2018       7.5                          Indonesia, Palu        20.0     X   \n59  2019       6.4                          Albania, Durrës        10.0  VIII   \n60  2020       7.0                       Greece, Aegean Sea        21.0  VIII   \n61  2021       7.2                            Haiti, Nippes        10.0    IX   \n62  2022       6.0                       Afghanistan, Khost        10.0  VIII   \n\n                                                Notes  \\\n0   Worst earthquake in Moroccan history. Between ...   \n1                              60 people were killed.   \n2   12,225 killed, and major property damage was c...   \n3   1,070 people perished and 80 percent of Skopje...   \n4   It is the largest earthquake ever recorded in ...   \n..                                                ...   \n58  At least 4,340 people killed, 10,679 and 1.5 m...   \n59  At least 51 people killed, 3,000 people injure...   \n60  At least 119 people killed, 1,096 people were ...   \n61  At least 2,248 people killed, 12,763 people we...   \n62  At least 1,163 people were killed and 6,027 ot...   \n\n                                   Event  Date  \n0                 1960 Agadir earthquake  1960  \n1                   1961 Fars earthquake  1961  \n2             1962 Buin Zahra earthquake  1962  \n3                 1963 Skopje earthquake  1963  \n4                 1964 Alaska earthquake  1964  \n..                                   ...   ...  \n58  2018 Sulawesi earthquake and tsunami  2018  \n59               2019 Albania earthquake  2019  \n60            2020 Aegean Sea earthquake  2020  \n61                 2021 Haiti earthquake  2021  \n62      June 2022 Afghanistan earthquake  2022  \n\n[63 rows x 8 columns]",
      "text/html": "<div>\n<style scoped>\n    .dataframe tbody tr th:only-of-type {\n        vertical-align: middle;\n    }\n\n    .dataframe tbody tr th {\n        vertical-align: top;\n    }\n\n    .dataframe thead th {\n        text-align: right;\n    }\n</style>\n<table border=\"1\" class=\"dataframe\">\n  <thead>\n    <tr style=\"text-align: right;\">\n      <th></th>\n      <th>Year</th>\n      <th>Magnitude</th>\n      <th>Location</th>\n      <th>Depth (km)</th>\n      <th>MMI</th>\n      <th>Notes</th>\n      <th>Event</th>\n      <th>Date</th>\n    </tr>\n  </thead>\n  <tbody>\n    <tr>\n      <th>0</th>\n      <td>1960</td>\n      <td>5.8</td>\n      <td>Morocco, Souss-Massa</td>\n      <td>15.0</td>\n      <td>X</td>\n      <td>Worst earthquake in Moroccan history. Between ...</td>\n      <td>1960 Agadir earthquake</td>\n      <td>1960</td>\n    </tr>\n    <tr>\n      <th>1</th>\n      <td>1961</td>\n      <td>6.4</td>\n      <td>Iran, Fars Province</td>\n      <td>15.0</td>\n      <td>VIII</td>\n      <td>60 people were killed.</td>\n      <td>1961 Fars earthquake</td>\n      <td>1961</td>\n    </tr>\n    <tr>\n      <th>2</th>\n      <td>1962</td>\n      <td>7.0</td>\n      <td>Iran, Qazvin Province</td>\n      <td>10.0</td>\n      <td>IX</td>\n      <td>12,225 killed, and major property damage was c...</td>\n      <td>1962 Buin Zahra earthquake</td>\n      <td>1962</td>\n    </tr>\n    <tr>\n      <th>3</th>\n      <td>1963</td>\n      <td>6.0</td>\n      <td>Yugoslavia, Republic of North Macedonia</td>\n      <td>15.0</td>\n      <td>X</td>\n      <td>1,070 people perished and 80 percent of Skopje...</td>\n      <td>1963 Skopje earthquake</td>\n      <td>1963</td>\n    </tr>\n    <tr>\n      <th>4</th>\n      <td>1964</td>\n      <td>9.2</td>\n      <td>United States, Alaska</td>\n      <td>25.0</td>\n      <td>XI</td>\n      <td>It is the largest earthquake ever recorded in ...</td>\n      <td>1964 Alaska earthquake</td>\n      <td>1964</td>\n    </tr>\n    <tr>\n      <th>...</th>\n      <td>...</td>\n      <td>...</td>\n      <td>...</td>\n      <td>...</td>\n      <td>...</td>\n      <td>...</td>\n      <td>...</td>\n      <td>...</td>\n    </tr>\n    <tr>\n      <th>58</th>\n      <td>2018</td>\n      <td>7.5</td>\n      <td>Indonesia, Palu</td>\n      <td>20.0</td>\n      <td>X</td>\n      <td>At least 4,340 people killed, 10,679 and 1.5 m...</td>\n      <td>2018 Sulawesi earthquake and tsunami</td>\n      <td>2018</td>\n    </tr>\n    <tr>\n      <th>59</th>\n      <td>2019</td>\n      <td>6.4</td>\n      <td>Albania, Durrës</td>\n      <td>10.0</td>\n      <td>VIII</td>\n      <td>At least 51 people killed, 3,000 people injure...</td>\n      <td>2019 Albania earthquake</td>\n      <td>2019</td>\n    </tr>\n    <tr>\n      <th>60</th>\n      <td>2020</td>\n      <td>7.0</td>\n      <td>Greece, Aegean Sea</td>\n      <td>21.0</td>\n      <td>VIII</td>\n      <td>At least 119 people killed, 1,096 people were ...</td>\n      <td>2020 Aegean Sea earthquake</td>\n      <td>2020</td>\n    </tr>\n    <tr>\n      <th>61</th>\n      <td>2021</td>\n      <td>7.2</td>\n      <td>Haiti, Nippes</td>\n      <td>10.0</td>\n      <td>IX</td>\n      <td>At least 2,248 people killed, 12,763 people we...</td>\n      <td>2021 Haiti earthquake</td>\n      <td>2021</td>\n    </tr>\n    <tr>\n      <th>62</th>\n      <td>2022</td>\n      <td>6.0</td>\n      <td>Afghanistan, Khost</td>\n      <td>10.0</td>\n      <td>VIII</td>\n      <td>At least 1,163 people were killed and 6,027 ot...</td>\n      <td>June 2022 Afghanistan earthquake</td>\n      <td>2022</td>\n    </tr>\n  </tbody>\n</table>\n<p>63 rows × 8 columns</p>\n</div>"
     },
     "execution_count": 35,
     "metadata": {},
     "output_type": "execute_result"
    }
   ],
   "source": [
    "df_earth"
   ],
   "metadata": {
    "collapsed": false,
    "pycharm": {
     "name": "#%%\n"
    }
   }
  },
  {
   "cell_type": "code",
   "execution_count": 36,
   "outputs": [
    {
     "name": "stdout",
     "output_type": "stream",
     "text": [
      "<class 'pandas.core.frame.DataFrame'>\n",
      "RangeIndex: 63 entries, 0 to 62\n",
      "Data columns (total 8 columns):\n",
      " #   Column      Non-Null Count  Dtype  \n",
      "---  ------      --------------  -----  \n",
      " 0   Year        63 non-null     int64  \n",
      " 1   Magnitude   63 non-null     object \n",
      " 2   Location    63 non-null     object \n",
      " 3   Depth (km)  63 non-null     float64\n",
      " 4   MMI         63 non-null     object \n",
      " 5   Notes       63 non-null     object \n",
      " 6   Event       63 non-null     object \n",
      " 7   Date        63 non-null     object \n",
      "dtypes: float64(1), int64(1), object(6)\n",
      "memory usage: 4.1+ KB\n"
     ]
    }
   ],
   "source": [
    "df_earth.info()"
   ],
   "metadata": {
    "collapsed": false,
    "pycharm": {
     "name": "#%%\n"
    }
   }
  },
  {
   "cell_type": "code",
   "execution_count": 37,
   "outputs": [],
   "source": [
    "df_earth['Date'] = pd.to_datetime(df_earth['Date'])"
   ],
   "metadata": {
    "collapsed": false,
    "pycharm": {
     "name": "#%%\n"
    }
   }
  },
  {
   "cell_type": "code",
   "execution_count": 38,
   "outputs": [
    {
     "data": {
      "text/plain": "    Year Magnitude                                 Location  Depth (km)   MMI  \\\n0   1960       5.8                     Morocco, Souss-Massa        15.0     X   \n1   1961       6.4                      Iran, Fars Province        15.0  VIII   \n2   1962       7.0                    Iran, Qazvin Province        10.0    IX   \n3   1963       6.0  Yugoslavia, Republic of North Macedonia        15.0     X   \n4   1964       9.2                    United States, Alaska        25.0    XI   \n..   ...       ...                                      ...         ...   ...   \n58  2018       7.5                          Indonesia, Palu        20.0     X   \n59  2019       6.4                          Albania, Durrës        10.0  VIII   \n60  2020       7.0                       Greece, Aegean Sea        21.0  VIII   \n61  2021       7.2                            Haiti, Nippes        10.0    IX   \n62  2022       6.0                       Afghanistan, Khost        10.0  VIII   \n\n                                                Notes  \\\n0   Worst earthquake in Moroccan history. Between ...   \n1                              60 people were killed.   \n2   12,225 killed, and major property damage was c...   \n3   1,070 people perished and 80 percent of Skopje...   \n4   It is the largest earthquake ever recorded in ...   \n..                                                ...   \n58  At least 4,340 people killed, 10,679 and 1.5 m...   \n59  At least 51 people killed, 3,000 people injure...   \n60  At least 119 people killed, 1,096 people were ...   \n61  At least 2,248 people killed, 12,763 people we...   \n62  At least 1,163 people were killed and 6,027 ot...   \n\n                                   Event       Date  \n0                 1960 Agadir earthquake 1960-01-01  \n1                   1961 Fars earthquake 1961-01-01  \n2             1962 Buin Zahra earthquake 1962-01-01  \n3                 1963 Skopje earthquake 1963-01-01  \n4                 1964 Alaska earthquake 1964-01-01  \n..                                   ...        ...  \n58  2018 Sulawesi earthquake and tsunami 2018-01-01  \n59               2019 Albania earthquake 2019-01-01  \n60            2020 Aegean Sea earthquake 2020-01-01  \n61                 2021 Haiti earthquake 2021-01-01  \n62      June 2022 Afghanistan earthquake 2022-01-01  \n\n[63 rows x 8 columns]",
      "text/html": "<div>\n<style scoped>\n    .dataframe tbody tr th:only-of-type {\n        vertical-align: middle;\n    }\n\n    .dataframe tbody tr th {\n        vertical-align: top;\n    }\n\n    .dataframe thead th {\n        text-align: right;\n    }\n</style>\n<table border=\"1\" class=\"dataframe\">\n  <thead>\n    <tr style=\"text-align: right;\">\n      <th></th>\n      <th>Year</th>\n      <th>Magnitude</th>\n      <th>Location</th>\n      <th>Depth (km)</th>\n      <th>MMI</th>\n      <th>Notes</th>\n      <th>Event</th>\n      <th>Date</th>\n    </tr>\n  </thead>\n  <tbody>\n    <tr>\n      <th>0</th>\n      <td>1960</td>\n      <td>5.8</td>\n      <td>Morocco, Souss-Massa</td>\n      <td>15.0</td>\n      <td>X</td>\n      <td>Worst earthquake in Moroccan history. Between ...</td>\n      <td>1960 Agadir earthquake</td>\n      <td>1960-01-01</td>\n    </tr>\n    <tr>\n      <th>1</th>\n      <td>1961</td>\n      <td>6.4</td>\n      <td>Iran, Fars Province</td>\n      <td>15.0</td>\n      <td>VIII</td>\n      <td>60 people were killed.</td>\n      <td>1961 Fars earthquake</td>\n      <td>1961-01-01</td>\n    </tr>\n    <tr>\n      <th>2</th>\n      <td>1962</td>\n      <td>7.0</td>\n      <td>Iran, Qazvin Province</td>\n      <td>10.0</td>\n      <td>IX</td>\n      <td>12,225 killed, and major property damage was c...</td>\n      <td>1962 Buin Zahra earthquake</td>\n      <td>1962-01-01</td>\n    </tr>\n    <tr>\n      <th>3</th>\n      <td>1963</td>\n      <td>6.0</td>\n      <td>Yugoslavia, Republic of North Macedonia</td>\n      <td>15.0</td>\n      <td>X</td>\n      <td>1,070 people perished and 80 percent of Skopje...</td>\n      <td>1963 Skopje earthquake</td>\n      <td>1963-01-01</td>\n    </tr>\n    <tr>\n      <th>4</th>\n      <td>1964</td>\n      <td>9.2</td>\n      <td>United States, Alaska</td>\n      <td>25.0</td>\n      <td>XI</td>\n      <td>It is the largest earthquake ever recorded in ...</td>\n      <td>1964 Alaska earthquake</td>\n      <td>1964-01-01</td>\n    </tr>\n    <tr>\n      <th>...</th>\n      <td>...</td>\n      <td>...</td>\n      <td>...</td>\n      <td>...</td>\n      <td>...</td>\n      <td>...</td>\n      <td>...</td>\n      <td>...</td>\n    </tr>\n    <tr>\n      <th>58</th>\n      <td>2018</td>\n      <td>7.5</td>\n      <td>Indonesia, Palu</td>\n      <td>20.0</td>\n      <td>X</td>\n      <td>At least 4,340 people killed, 10,679 and 1.5 m...</td>\n      <td>2018 Sulawesi earthquake and tsunami</td>\n      <td>2018-01-01</td>\n    </tr>\n    <tr>\n      <th>59</th>\n      <td>2019</td>\n      <td>6.4</td>\n      <td>Albania, Durrës</td>\n      <td>10.0</td>\n      <td>VIII</td>\n      <td>At least 51 people killed, 3,000 people injure...</td>\n      <td>2019 Albania earthquake</td>\n      <td>2019-01-01</td>\n    </tr>\n    <tr>\n      <th>60</th>\n      <td>2020</td>\n      <td>7.0</td>\n      <td>Greece, Aegean Sea</td>\n      <td>21.0</td>\n      <td>VIII</td>\n      <td>At least 119 people killed, 1,096 people were ...</td>\n      <td>2020 Aegean Sea earthquake</td>\n      <td>2020-01-01</td>\n    </tr>\n    <tr>\n      <th>61</th>\n      <td>2021</td>\n      <td>7.2</td>\n      <td>Haiti, Nippes</td>\n      <td>10.0</td>\n      <td>IX</td>\n      <td>At least 2,248 people killed, 12,763 people we...</td>\n      <td>2021 Haiti earthquake</td>\n      <td>2021-01-01</td>\n    </tr>\n    <tr>\n      <th>62</th>\n      <td>2022</td>\n      <td>6.0</td>\n      <td>Afghanistan, Khost</td>\n      <td>10.0</td>\n      <td>VIII</td>\n      <td>At least 1,163 people were killed and 6,027 ot...</td>\n      <td>June 2022 Afghanistan earthquake</td>\n      <td>2022-01-01</td>\n    </tr>\n  </tbody>\n</table>\n<p>63 rows × 8 columns</p>\n</div>"
     },
     "execution_count": 38,
     "metadata": {},
     "output_type": "execute_result"
    }
   ],
   "source": [
    "df_earth"
   ],
   "metadata": {
    "collapsed": false,
    "pycharm": {
     "name": "#%%\n"
    }
   }
  },
  {
   "cell_type": "code",
   "execution_count": 6,
   "outputs": [],
   "source": [
    "df_second = pd.read_csv('../Free_Banking_Era_to_the_Great_Depression.csv')"
   ],
   "metadata": {
    "collapsed": false,
    "pycharm": {
     "name": "#%%\n"
    }
   }
  },
  {
   "cell_type": "code",
   "execution_count": 7,
   "outputs": [
    {
     "data": {
      "text/plain": "                                     Name                         Dates  \\\n0                     1836–1838 recession                             —   \n1           late 1839–late 1843 recession                             —   \n2                1845–late 1846 recession                             —   \n3                     1847–1848 recession         late 1847 – late 1848   \n4                     1853–1854 recession          1853 – December 1854   \n5                           Panic of 1857     June 1857 – December 1858   \n6                     1860–1861 recession      October 1860 – June 1861   \n7                     1865–1867 recession    April 1865 – December 1867   \n8                     1869–1870 recession     June 1869 – December 1870   \n9   Panic of 1873 and the Long Depression     October 1873 – March 1879   \n10                    1882–1885 recession         March 1882 – May 1885   \n11                    1887–1888 recession       March 1887 – April 1888   \n12                    1890–1891 recession          July 1890 – May 1891   \n13                          Panic of 1893      January 1893 – June 1894   \n14                          Panic of 1896     December 1895 – June 1897   \n15                    1899–1900 recession     June 1899 – December 1900   \n16                    1902–1904 recession   September 1902 –August 1904   \n17                          Panic of 1907          May 1907 – June 1908   \n18                     Panic of 1910–1911   January 1910 – January 1912   \n19                 Recession of 1913–1914  January 1913 – December 1914   \n20             Post-World War I recession      August 1918 – March 1919   \n21                Depression of 1920–1921      January 1920 – July 1921   \n22                    1923–1924 recession          May 1923 – June 1924   \n23                    1926–1927 recession  October 1926 – November 1927   \n\n            Duration Time since previous recession   Business activity  \\\n0           ~2 years                      ~2 years              –32.8%   \n1           ~4 years                       ~1 year              –34.3%   \n2            ~1 year                      ~2 years               −5.9%   \n3            ~1 year                       ~1 year              −19.7%   \n4            ~1 year                      ~5 years              −18.4%   \n5    1 year 6 months              2 years 6 months              −23.1%   \n6           8 months              1 year 10 months              −14.5%   \n7   2 years 8 months             3 years 10 months              −23.8%   \n8    1 year 6 months               1 year 6 months               −9.7%   \n9   5 years 5 months             2 years 10 months  −33.6% (−27.3%)[c]   \n10  3 years 2 months                       3 years              −32.8%   \n11    1 year 1 month              1 year 10 months              −14.6%   \n12         10 months               1 year 5 months              −22.1%   \n13   1 year 5 months               1 year 8 months              −37.3%   \n14   1 year 6 months               1 year 6 months              −25.2%   \n15   1 year 6 months                       2 years              −15.5%   \n16  1 year 11 months               1 year 9 months              −16.2%   \n17    1 year 1 month              2 years 9 months              −29.2%   \n18           2 years               1 year 7 months              −14.7%   \n19  1 year 11 months                        1 year              −25.9%   \n20          7 months              3 years 8 months              −24.5%   \n21   1 year 6 months                     10 months              −38.1%   \n22   1 year 2 months                       2 years              −25.4%   \n23    1 year 1 month              2 years 3 months              −12.2%   \n\n   Trade & industrial activity  \\\n0                            —   \n1                            —   \n2                            —   \n3                            —   \n4                            —   \n5                            —   \n6                            —   \n7                            —   \n8                            —   \n9                            —   \n10                      −24.6%   \n11                       −8.2%   \n12                      −11.7%   \n13                      −29.7%   \n14                      −20.8%   \n15                       −8.8%   \n16                      −17.1%   \n17                      −31.0%   \n18                      −10.6%   \n19                      −19.8%   \n20                      −14.1%   \n21                      −32.7%   \n22                      −22.7%   \n23                      −10.0%   \n\n                                      Characteristics  \\\n0   A sharp downturn in the American economy was c...   \n1   This was one of the longest and deepest depres...   \n2   This recession was mild enough that it may hav...   \n3   The Cleveland Trust Company Index declined 19....   \n4   Interest rates rose in this period, contributi...   \n5   Failure of the Ohio Life Insurance and Trust C...   \n6   There was a mild recession before the American...   \n7   The American Civil War ended in April 1865, an...   \n8   A few years after the Civil War, a short reces...   \n9   Economic problems in Europe prompted the failu...   \n10  Like the Long Depression that preceded it, the...   \n11  Investments in railroads and buildings weakene...   \n12  Although shorter than the recession in 1887–18...   \n13  Failure of the United States Reading Railroad ...   \n14  The period of 1893–1897 is seen as a generally...   \n15  This was a mild recession in the period of gen...   \n16  Though not severe, this downturn lasted for ne...   \n17  A run on Knickerbocker Trust Company deposits ...   \n18  This was a mild but lengthy recession. The nat...   \n19  Productions and real income declined during th...   \n20  Severe hyperinflation in Europe took place ove...   \n21  The 1921 recession began a mere 10 months afte...   \n22  From the depression of 1920–1921 until the Gre...   \n23  This was an unusual and mild recession, though...   \n\n                            date                                  event  \\\n0                              —                    1836–1838 recession   \n1                              —          late 1839–late 1843 recession   \n2                              —               1845–late 1846 recession   \n3          late 1847 – late 1848                    1847–1848 recession   \n4           1853 – December 1854                    1853–1854 recession   \n5      June 1857 – December 1858                          Panic of 1857   \n6       October 1860 – June 1861                    1860–1861 recession   \n7     April 1865 – December 1867                    1865–1867 recession   \n8      June 1869 – December 1870                    1869–1870 recession   \n9      October 1873 – March 1879  Panic of 1873 and the Long Depression   \n10         March 1882 – May 1885                    1882–1885 recession   \n11       March 1887 – April 1888                    1887–1888 recession   \n12          July 1890 – May 1891                    1890–1891 recession   \n13      January 1893 – June 1894                          Panic of 1893   \n14     December 1895 – June 1897                          Panic of 1896   \n15     June 1899 – December 1900                    1899–1900 recession   \n16   September 1902 –August 1904                    1902–1904 recession   \n17          May 1907 – June 1908                          Panic of 1907   \n18   January 1910 – January 1912                     Panic of 1910–1911   \n19  January 1913 – December 1914                 Recession of 1913–1914   \n20      August 1918 – March 1919             Post-World War I recession   \n21      January 1920 – July 1921                Depression of 1920–1921   \n22          May 1923 – June 1924                    1923–1924 recession   \n23  October 1926 – November 1927                    1926–1927 recession   \n\n             magnitude  \n0               –32.8%  \n1               –34.3%  \n2                −5.9%  \n3               −19.7%  \n4               −18.4%  \n5               −23.1%  \n6               −14.5%  \n7               −23.8%  \n8                −9.7%  \n9   −33.6% (−27.3%)[c]  \n10              −32.8%  \n11              −14.6%  \n12              −22.1%  \n13              −37.3%  \n14              −25.2%  \n15              −15.5%  \n16              −16.2%  \n17              −29.2%  \n18              −14.7%  \n19              −25.9%  \n20              −24.5%  \n21              −38.1%  \n22              −25.4%  \n23              −12.2%  ",
      "text/html": "<div>\n<style scoped>\n    .dataframe tbody tr th:only-of-type {\n        vertical-align: middle;\n    }\n\n    .dataframe tbody tr th {\n        vertical-align: top;\n    }\n\n    .dataframe thead th {\n        text-align: right;\n    }\n</style>\n<table border=\"1\" class=\"dataframe\">\n  <thead>\n    <tr style=\"text-align: right;\">\n      <th></th>\n      <th>Name</th>\n      <th>Dates</th>\n      <th>Duration</th>\n      <th>Time since previous recession</th>\n      <th>Business activity</th>\n      <th>Trade &amp; industrial activity</th>\n      <th>Characteristics</th>\n      <th>date</th>\n      <th>event</th>\n      <th>magnitude</th>\n    </tr>\n  </thead>\n  <tbody>\n    <tr>\n      <th>0</th>\n      <td>1836–1838 recession</td>\n      <td>—</td>\n      <td>~2 years</td>\n      <td>~2 years</td>\n      <td>–32.8%</td>\n      <td>—</td>\n      <td>A sharp downturn in the American economy was c...</td>\n      <td>—</td>\n      <td>1836–1838 recession</td>\n      <td>–32.8%</td>\n    </tr>\n    <tr>\n      <th>1</th>\n      <td>late 1839–late 1843 recession</td>\n      <td>—</td>\n      <td>~4 years</td>\n      <td>~1 year</td>\n      <td>–34.3%</td>\n      <td>—</td>\n      <td>This was one of the longest and deepest depres...</td>\n      <td>—</td>\n      <td>late 1839–late 1843 recession</td>\n      <td>–34.3%</td>\n    </tr>\n    <tr>\n      <th>2</th>\n      <td>1845–late 1846 recession</td>\n      <td>—</td>\n      <td>~1 year</td>\n      <td>~2 years</td>\n      <td>−5.9%</td>\n      <td>—</td>\n      <td>This recession was mild enough that it may hav...</td>\n      <td>—</td>\n      <td>1845–late 1846 recession</td>\n      <td>−5.9%</td>\n    </tr>\n    <tr>\n      <th>3</th>\n      <td>1847–1848 recession</td>\n      <td>late 1847 – late 1848</td>\n      <td>~1 year</td>\n      <td>~1 year</td>\n      <td>−19.7%</td>\n      <td>—</td>\n      <td>The Cleveland Trust Company Index declined 19....</td>\n      <td>late 1847 – late 1848</td>\n      <td>1847–1848 recession</td>\n      <td>−19.7%</td>\n    </tr>\n    <tr>\n      <th>4</th>\n      <td>1853–1854 recession</td>\n      <td>1853 – December 1854</td>\n      <td>~1 year</td>\n      <td>~5 years</td>\n      <td>−18.4%</td>\n      <td>—</td>\n      <td>Interest rates rose in this period, contributi...</td>\n      <td>1853 – December 1854</td>\n      <td>1853–1854 recession</td>\n      <td>−18.4%</td>\n    </tr>\n    <tr>\n      <th>5</th>\n      <td>Panic of 1857</td>\n      <td>June 1857 – December 1858</td>\n      <td>1 year 6 months</td>\n      <td>2 years 6 months</td>\n      <td>−23.1%</td>\n      <td>—</td>\n      <td>Failure of the Ohio Life Insurance and Trust C...</td>\n      <td>June 1857 – December 1858</td>\n      <td>Panic of 1857</td>\n      <td>−23.1%</td>\n    </tr>\n    <tr>\n      <th>6</th>\n      <td>1860–1861 recession</td>\n      <td>October 1860 – June 1861</td>\n      <td>8 months</td>\n      <td>1 year 10 months</td>\n      <td>−14.5%</td>\n      <td>—</td>\n      <td>There was a mild recession before the American...</td>\n      <td>October 1860 – June 1861</td>\n      <td>1860–1861 recession</td>\n      <td>−14.5%</td>\n    </tr>\n    <tr>\n      <th>7</th>\n      <td>1865–1867 recession</td>\n      <td>April 1865 – December 1867</td>\n      <td>2 years 8 months</td>\n      <td>3 years 10 months</td>\n      <td>−23.8%</td>\n      <td>—</td>\n      <td>The American Civil War ended in April 1865, an...</td>\n      <td>April 1865 – December 1867</td>\n      <td>1865–1867 recession</td>\n      <td>−23.8%</td>\n    </tr>\n    <tr>\n      <th>8</th>\n      <td>1869–1870 recession</td>\n      <td>June 1869 – December 1870</td>\n      <td>1 year 6 months</td>\n      <td>1 year 6 months</td>\n      <td>−9.7%</td>\n      <td>—</td>\n      <td>A few years after the Civil War, a short reces...</td>\n      <td>June 1869 – December 1870</td>\n      <td>1869–1870 recession</td>\n      <td>−9.7%</td>\n    </tr>\n    <tr>\n      <th>9</th>\n      <td>Panic of 1873 and the Long Depression</td>\n      <td>October 1873 – March 1879</td>\n      <td>5 years 5 months</td>\n      <td>2 years 10 months</td>\n      <td>−33.6% (−27.3%)[c]</td>\n      <td>—</td>\n      <td>Economic problems in Europe prompted the failu...</td>\n      <td>October 1873 – March 1879</td>\n      <td>Panic of 1873 and the Long Depression</td>\n      <td>−33.6% (−27.3%)[c]</td>\n    </tr>\n    <tr>\n      <th>10</th>\n      <td>1882–1885 recession</td>\n      <td>March 1882 – May 1885</td>\n      <td>3 years 2 months</td>\n      <td>3 years</td>\n      <td>−32.8%</td>\n      <td>−24.6%</td>\n      <td>Like the Long Depression that preceded it, the...</td>\n      <td>March 1882 – May 1885</td>\n      <td>1882–1885 recession</td>\n      <td>−32.8%</td>\n    </tr>\n    <tr>\n      <th>11</th>\n      <td>1887–1888 recession</td>\n      <td>March 1887 – April 1888</td>\n      <td>1 year 1 month</td>\n      <td>1 year 10 months</td>\n      <td>−14.6%</td>\n      <td>−8.2%</td>\n      <td>Investments in railroads and buildings weakene...</td>\n      <td>March 1887 – April 1888</td>\n      <td>1887–1888 recession</td>\n      <td>−14.6%</td>\n    </tr>\n    <tr>\n      <th>12</th>\n      <td>1890–1891 recession</td>\n      <td>July 1890 – May 1891</td>\n      <td>10 months</td>\n      <td>1 year 5 months</td>\n      <td>−22.1%</td>\n      <td>−11.7%</td>\n      <td>Although shorter than the recession in 1887–18...</td>\n      <td>July 1890 – May 1891</td>\n      <td>1890–1891 recession</td>\n      <td>−22.1%</td>\n    </tr>\n    <tr>\n      <th>13</th>\n      <td>Panic of 1893</td>\n      <td>January 1893 – June 1894</td>\n      <td>1 year 5 months</td>\n      <td>1 year 8 months</td>\n      <td>−37.3%</td>\n      <td>−29.7%</td>\n      <td>Failure of the United States Reading Railroad ...</td>\n      <td>January 1893 – June 1894</td>\n      <td>Panic of 1893</td>\n      <td>−37.3%</td>\n    </tr>\n    <tr>\n      <th>14</th>\n      <td>Panic of 1896</td>\n      <td>December 1895 – June 1897</td>\n      <td>1 year 6 months</td>\n      <td>1 year 6 months</td>\n      <td>−25.2%</td>\n      <td>−20.8%</td>\n      <td>The period of 1893–1897 is seen as a generally...</td>\n      <td>December 1895 – June 1897</td>\n      <td>Panic of 1896</td>\n      <td>−25.2%</td>\n    </tr>\n    <tr>\n      <th>15</th>\n      <td>1899–1900 recession</td>\n      <td>June 1899 – December 1900</td>\n      <td>1 year 6 months</td>\n      <td>2 years</td>\n      <td>−15.5%</td>\n      <td>−8.8%</td>\n      <td>This was a mild recession in the period of gen...</td>\n      <td>June 1899 – December 1900</td>\n      <td>1899–1900 recession</td>\n      <td>−15.5%</td>\n    </tr>\n    <tr>\n      <th>16</th>\n      <td>1902–1904 recession</td>\n      <td>September 1902 –August 1904</td>\n      <td>1 year 11 months</td>\n      <td>1 year 9 months</td>\n      <td>−16.2%</td>\n      <td>−17.1%</td>\n      <td>Though not severe, this downturn lasted for ne...</td>\n      <td>September 1902 –August 1904</td>\n      <td>1902–1904 recession</td>\n      <td>−16.2%</td>\n    </tr>\n    <tr>\n      <th>17</th>\n      <td>Panic of 1907</td>\n      <td>May 1907 – June 1908</td>\n      <td>1 year 1 month</td>\n      <td>2 years 9 months</td>\n      <td>−29.2%</td>\n      <td>−31.0%</td>\n      <td>A run on Knickerbocker Trust Company deposits ...</td>\n      <td>May 1907 – June 1908</td>\n      <td>Panic of 1907</td>\n      <td>−29.2%</td>\n    </tr>\n    <tr>\n      <th>18</th>\n      <td>Panic of 1910–1911</td>\n      <td>January 1910 – January 1912</td>\n      <td>2 years</td>\n      <td>1 year 7 months</td>\n      <td>−14.7%</td>\n      <td>−10.6%</td>\n      <td>This was a mild but lengthy recession. The nat...</td>\n      <td>January 1910 – January 1912</td>\n      <td>Panic of 1910–1911</td>\n      <td>−14.7%</td>\n    </tr>\n    <tr>\n      <th>19</th>\n      <td>Recession of 1913–1914</td>\n      <td>January 1913 – December 1914</td>\n      <td>1 year 11 months</td>\n      <td>1 year</td>\n      <td>−25.9%</td>\n      <td>−19.8%</td>\n      <td>Productions and real income declined during th...</td>\n      <td>January 1913 – December 1914</td>\n      <td>Recession of 1913–1914</td>\n      <td>−25.9%</td>\n    </tr>\n    <tr>\n      <th>20</th>\n      <td>Post-World War I recession</td>\n      <td>August 1918 – March 1919</td>\n      <td>7 months</td>\n      <td>3 years 8 months</td>\n      <td>−24.5%</td>\n      <td>−14.1%</td>\n      <td>Severe hyperinflation in Europe took place ove...</td>\n      <td>August 1918 – March 1919</td>\n      <td>Post-World War I recession</td>\n      <td>−24.5%</td>\n    </tr>\n    <tr>\n      <th>21</th>\n      <td>Depression of 1920–1921</td>\n      <td>January 1920 – July 1921</td>\n      <td>1 year 6 months</td>\n      <td>10 months</td>\n      <td>−38.1%</td>\n      <td>−32.7%</td>\n      <td>The 1921 recession began a mere 10 months afte...</td>\n      <td>January 1920 – July 1921</td>\n      <td>Depression of 1920–1921</td>\n      <td>−38.1%</td>\n    </tr>\n    <tr>\n      <th>22</th>\n      <td>1923–1924 recession</td>\n      <td>May 1923 – June 1924</td>\n      <td>1 year 2 months</td>\n      <td>2 years</td>\n      <td>−25.4%</td>\n      <td>−22.7%</td>\n      <td>From the depression of 1920–1921 until the Gre...</td>\n      <td>May 1923 – June 1924</td>\n      <td>1923–1924 recession</td>\n      <td>−25.4%</td>\n    </tr>\n    <tr>\n      <th>23</th>\n      <td>1926–1927 recession</td>\n      <td>October 1926 – November 1927</td>\n      <td>1 year 1 month</td>\n      <td>2 years 3 months</td>\n      <td>−12.2%</td>\n      <td>−10.0%</td>\n      <td>This was an unusual and mild recession, though...</td>\n      <td>October 1926 – November 1927</td>\n      <td>1926–1927 recession</td>\n      <td>−12.2%</td>\n    </tr>\n  </tbody>\n</table>\n</div>"
     },
     "execution_count": 7,
     "metadata": {},
     "output_type": "execute_result"
    }
   ],
   "source": [
    "df_second"
   ],
   "metadata": {
    "collapsed": false,
    "pycharm": {
     "name": "#%%\n"
    }
   }
  },
  {
   "cell_type": "code",
   "execution_count": 43,
   "outputs": [
    {
     "data": {
      "text/plain": "True"
     },
     "execution_count": 43,
     "metadata": {},
     "output_type": "execute_result"
    }
   ],
   "source": [
    "df_second[df_second['Dates[b]'].str.contains('–')].shape[0] > df_second.shape[0] * 0.6"
   ],
   "metadata": {
    "collapsed": false,
    "pycharm": {
     "name": "#%%\n"
    }
   }
  },
  {
   "cell_type": "code",
   "execution_count": 4,
   "outputs": [],
   "source": [
    "column = df_second.Name"
   ],
   "metadata": {
    "collapsed": false,
    "pycharm": {
     "name": "#%%\n"
    }
   }
  },
  {
   "cell_type": "code",
   "execution_count": 5,
   "outputs": [
    {
     "data": {
      "text/plain": "0                       1836–1838 recession\n1             late 1839–late 1843 recession\n2                  1845–late 1846 recession\n3                       1847–1848 recession\n4                       1853–1854 recession\n5                             Panic of 1857\n6                       1860–1861 recession\n7                       1865–1867 recession\n8                       1869–1870 recession\n9     Panic of 1873 and the Long Depression\n10                      1882–1885 recession\n11                      1887–1888 recession\n12                      1890–1891 recession\n13                            Panic of 1893\n14                            Panic of 1896\n15                      1899–1900 recession\n16                      1902–1904 recession\n17                            Panic of 1907\n18                       Panic of 1910–1911\n19                   Recession of 1913–1914\n20               Post-World War I recession\n21                  Depression of 1920–1921\n22                      1923–1924 recession\n23                      1926–1927 recession\nName: Name, dtype: object"
     },
     "execution_count": 5,
     "metadata": {},
     "output_type": "execute_result"
    }
   ],
   "source": [
    "column"
   ],
   "metadata": {
    "collapsed": false,
    "pycharm": {
     "name": "#%%\n"
    }
   }
  },
  {
   "cell_type": "code",
   "execution_count": 12,
   "outputs": [],
   "source": [
    "second_column = df_second['magnitude'].astype(str).tolist()"
   ],
   "metadata": {
    "collapsed": false,
    "pycharm": {
     "name": "#%%\n"
    }
   }
  },
  {
   "cell_type": "code",
   "execution_count": 13,
   "outputs": [
    {
     "data": {
      "text/plain": "['–32.8%',\n '–34.3%',\n '−5.9%',\n '−19.7%',\n '−18.4%',\n '−23.1%',\n '−14.5%',\n '−23.8%',\n '−9.7%',\n '−33.6% (−27.3%)[c]',\n '−32.8%',\n '−14.6%',\n '−22.1%',\n '−37.3%',\n '−25.2%',\n '−15.5%',\n '−16.2%',\n '−29.2%',\n '−14.7%',\n '−25.9%',\n '−24.5%',\n '−38.1%',\n '−25.4%',\n '−12.2%']"
     },
     "execution_count": 13,
     "metadata": {},
     "output_type": "execute_result"
    }
   ],
   "source": [
    "second_column"
   ],
   "metadata": {
    "collapsed": false,
    "pycharm": {
     "name": "#%%\n"
    }
   }
  },
  {
   "cell_type": "code",
   "execution_count": 24,
   "outputs": [],
   "source": [
    "cleaned_magnitude_value = [re.findall(r'\\d+\\.\\d+', value) for value in second_column]"
   ],
   "metadata": {
    "collapsed": false,
    "pycharm": {
     "name": "#%%\n"
    }
   }
  },
  {
   "cell_type": "code",
   "execution_count": 37,
   "outputs": [
    {
     "data": {
      "text/plain": "24"
     },
     "execution_count": 37,
     "metadata": {},
     "output_type": "execute_result"
    }
   ],
   "source": [
    "len(cleaned_magnitude_value)"
   ],
   "metadata": {
    "collapsed": false,
    "pycharm": {
     "name": "#%%\n"
    }
   }
  },
  {
   "cell_type": "code",
   "execution_count": 41,
   "outputs": [],
   "source": [
    "cleaned_magnitude = [sum(list((map(float, value)))) for value in cleaned_magnitude_value]"
   ],
   "metadata": {
    "collapsed": false,
    "pycharm": {
     "name": "#%%\n"
    }
   }
  },
  {
   "cell_type": "code",
   "execution_count": 42,
   "outputs": [
    {
     "data": {
      "text/plain": "24"
     },
     "execution_count": 42,
     "metadata": {},
     "output_type": "execute_result"
    }
   ],
   "source": [
    "len(cleaned_magnitude)"
   ],
   "metadata": {
    "collapsed": false,
    "pycharm": {
     "name": "#%%\n"
    }
   }
  },
  {
   "cell_type": "code",
   "execution_count": null,
   "outputs": [],
   "source": [],
   "metadata": {
    "collapsed": false,
    "pycharm": {
     "name": "#%%\n"
    }
   }
  }
 ],
 "metadata": {
  "kernelspec": {
   "display_name": "Python 3",
   "language": "python",
   "name": "python3"
  },
  "language_info": {
   "codemirror_mode": {
    "name": "ipython",
    "version": 2
   },
   "file_extension": ".py",
   "mimetype": "text/x-python",
   "name": "python",
   "nbconvert_exporter": "python",
   "pygments_lexer": "ipython2",
   "version": "2.7.6"
  }
 },
 "nbformat": 4,
 "nbformat_minor": 0
}